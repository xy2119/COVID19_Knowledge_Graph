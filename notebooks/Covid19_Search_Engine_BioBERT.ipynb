{
  "cells": [
    {
      "cell_type": "markdown",
      "metadata": {
        "id": "view-in-github",
        "colab_type": "text"
      },
      "source": [
        "<a href=\"https://colab.research.google.com/github/xy2119/COVID19_Knowledge_Graph/blob/main/notebooks/Covid19_Search_Engine_BioBERT.ipynb\" target=\"_parent\"><img src=\"https://colab.research.google.com/assets/colab-badge.svg\" alt=\"Open In Colab\"/></a>"
      ]
    },
    {
      "cell_type": "markdown",
      "metadata": {
        "id": "SSXqr37jep4q"
      },
      "source": [
        "# Biomedical Natural Language Processing | Word Representation and Semantic Search Engine\n",
        "# Submission to the 2021 Imperial College Data Science Challenge\n",
        "\n",
        "In the **[2021 Data Science Institute Natural Language Processing Challenge](https://www.imperial.ac.uk/data-science/)**, the released dataset for text mining task is [CORD-19](https://github.com/allenai/cord19), a corpus of academic papers about COVID-19 and related coronavirus research, curated and maintained by the Allen Institute for AI. We're keen on exploring word representations and semantic relations that could serve as a medical and scientific knowledge repository.\n",
        "\n",
        "This notebook builds a search engine that indexes the literature on Covid 19, and then retrieves the papers that are most relevant to the user's query. The text is parsed from JSON files, cleaned (and saved into a cleaned csv), tokenized, tf-idf and transformer are then employed to create sentence embeddings.\n",
        "\n",
        "The extracted associations ultimately contributed to the creation of the Covid 19 Knowledge Graph.\n",
        "\n",
        "### **What is a Biomedical Entity?**\n",
        "Biomedical entity is a term that refers to anything related to the field of biomedicine. This can include things like proteins, genes, diseases, and medical treatments etc.\n",
        "\n",
        "### **BioBERT**\n",
        "BioBERT is a BERT model pre-trained on the biomedical datasets. In the pre-training, weights of the regular BERT model was taken and then pre-trained on the medical datasets like (PubMed abstracts and PMC). This domain-specific pre-trained model can be fine-tunned on smaller datasets. Literatures has proven that fine-tuning BIOBERT model outperformed the fine-tuned BERT model for the biomedical domain-specific NLP tasks.\n",
        "\n",
        "\n",
        "\n",
        "This notebook is organised as follows:\n",
        "\n",
        "0. Install and Import Libraries\n",
        "1. Download CORD 19 Dataset\n",
        "2. Read JSON Files and Load Articles\n",
        "\n",
        "    * Create Abstract Dictionary\n",
        "\n",
        "    * Create Body Text Dictionary\n",
        "\n",
        "    * Create Metadata Dictionary\n",
        "\n",
        "    * Create Bibliography Dictionary\n",
        "\n",
        "    * Save Cleaned Files in CSV\n",
        "\n",
        "3. Text Processing\n",
        "4. Embedding with TF-IDF\n",
        "5. Search Engine based on TF-IDF\n",
        "6. Embedding with BioBERT\n",
        "7. Search Engine based on Transformer\n"
      ]
    },
    {
      "cell_type": "markdown",
      "metadata": {
        "id": "tKX7A_Perh4O"
      },
      "source": [
        "Some information might be helpful before repreducing this notebook:\n",
        "\n",
        "* As a reference, CORD 19 Dataset may take 20m 58s to download and unzip from Kaggle, using colab Tesla T4 GPU.\n",
        "\n",
        "\n",
        "Feel free to contact me at xy2119@ic.ac.uk"
      ]
    },
    {
      "cell_type": "code",
      "execution_count": null,
      "metadata": {
        "id": "gxsvmaQUmKnn"
      },
      "outputs": [],
      "source": [
        "!pip install sentence_transformers\n",
        "!pip install faiss-gpu"
      ]
    },
    {
      "cell_type": "code",
      "execution_count": null,
      "metadata": {
        "id": "kfeNjBnWmSOQ"
      },
      "outputs": [],
      "source": [
        "!wget https://github.com/naver/biobert-pretrained/releases/download/v1.1-pubmed/biobert_v1.1_pubmed.tar.gz"
      ]
    },
    {
      "cell_type": "markdown",
      "metadata": {
        "id": "ykvWvhIoPQUo"
      },
      "source": [
        "## Install and Import Libraries"
      ]
    },
    {
      "cell_type": "code",
      "execution_count": null,
      "metadata": {
        "id": "YZa-p_neKRRp"
      },
      "outputs": [],
      "source": [
        "import re\n",
        "import os\n",
        "import json\n",
        "import numpy as np\n",
        "import pandas as pd\n",
        "import dill as pickle\n",
        "from pprint import pprint\n",
        "from copy import deepcopy\n",
        "from tqdm.notebook import tqdm\n",
        "\n",
        "import torch\n",
        "from sentence_transformers import SentenceTransformer"
      ]
    },
    {
      "cell_type": "markdown",
      "metadata": {
        "id": "F2W4FanpeAzX"
      },
      "source": [
        "## Read JSON Files and Load Articles"
      ]
    },
    {
      "cell_type": "markdown",
      "metadata": {
        "id": "Btq7xeYPMmjA"
      },
      "source": [
        "**Note** This dataset takes 20m 58s to download and unzip from Kaggle"
      ]
    },
    {
      "cell_type": "code",
      "execution_count": null,
      "metadata": {
        "id": "CdhukslGNFoJ"
      },
      "outputs": [],
      "source": [
        "#create the .kaggle folder in the root directory\n",
        "!mkdir ~/.kaggle \n",
        "# write kaggle API credentials to kaggle.json\n",
        "!echo '{\"username\":\"mancostart\",\"key\":\"d5ae883c2cdbdb931ba7335620acf2fa\"}' > ~/.kaggle/kaggle.json \n",
        "# set permissions\n",
        "!chmod 600 ~/.kaggle/kaggle.json\n",
        "# install the kaggle library\n",
        "!pip install kaggle \n",
        "# download CORD 19 Kaggle Dataset\n",
        "!kaggle datasets download -d allen-institute-for-ai/CORD-19-research-challenge -p ~/../content/CORD-19-research-challenge/data/  \n",
        "# unzip\n",
        "!unzip -o ~/../content/CORD-19-research-challenge/data/CORD-19-research-challenge.zip -d ~/../content/CORD-19-research-challenge/data/"
      ]
    },
    {
      "cell_type": "code",
      "execution_count": null,
      "metadata": {
        "colab": {
          "base_uri": "https://localhost:8080/"
        },
        "id": "gAvxIe_xPaKA",
        "outputId": "043713f1-c7df-4964-bb5e-29342e94dc5c"
      },
      "outputs": [
        {
          "name": "stdout",
          "output_type": "stream",
          "text": [
            "Number of articles retrieved: 401214\n"
          ]
        }
      ],
      "source": [
        "dir = '/content/CORD-19/data/document_parses/pdf_json/'\n",
        "filenames = os.listdir(dir)\n",
        "print(\"Number of articles retrieved:\", len(filenames))"
      ]
    },
    {
      "cell_type": "code",
      "execution_count": null,
      "metadata": {
        "colab": {
          "base_uri": "https://localhost:8080/"
        },
        "id": "qPcoIaRZdfeN",
        "outputId": "27a4190f-0ec5-4689-dad9-9d2d71504f09"
      },
      "outputs": [
        {
          "name": "stdout",
          "output_type": "stream",
          "text": [
            "Dictionary keys: dict_keys(['paper_id', 'metadata', 'abstract', 'body_text', 'bib_entries', 'ref_entries', 'back_matter'])\n"
          ]
        }
      ],
      "source": [
        "# Load files for creating bio_clean_v1.csv\n",
        "start=75000\n",
        "count=0\n",
        "all_files = []\n",
        "for i in range(25000):\n",
        "    i +=start\n",
        "    filename = filenames[i]\n",
        "    filename = dir + filename\n",
        "    file = json.load(open(filename, 'rb'))\n",
        "    all_files.append(file)\n",
        "\n",
        "file = all_files[0]\n",
        "print(\"Dictionary keys:\", file.keys())"
      ]
    },
    {
      "cell_type": "markdown",
      "metadata": {
        "id": "ObjFwdX0QlG6"
      },
      "source": [
        "### Create Abstract Dictionary"
      ]
    },
    {
      "cell_type": "code",
      "execution_count": null,
      "metadata": {
        "id": "Hx2jmvBrUuMk"
      },
      "outputs": [],
      "source": [
        "pprint(file['abstract'])"
      ]
    },
    {
      "cell_type": "markdown",
      "metadata": {
        "id": "jO4EQARxQrX0"
      },
      "source": [
        "### Create Body Text Dictionary"
      ]
    },
    {
      "cell_type": "code",
      "execution_count": null,
      "metadata": {
        "colab": {
          "base_uri": "https://localhost:8080/"
        },
        "id": "Ug5b-3krUzwU",
        "outputId": "a43f8656-320e-46f0-9ee4-2e6d4857948c"
      },
      "outputs": [
        {
          "name": "stdout",
          "output_type": "stream",
          "text": [
            "body_text type: <class 'list'>\n",
            "body_text length: 85\n",
            "body_text keys: dict_keys(['text', 'cite_spans', 'ref_spans', 'section'])\n"
          ]
        }
      ],
      "source": [
        "print(\"body_text type:\", type(file['body_text']))\n",
        "print(\"body_text length:\", len(file['body_text']))\n",
        "print(\"body_text keys:\", file['body_text'][0].keys())"
      ]
    },
    {
      "cell_type": "code",
      "execution_count": null,
      "metadata": {
        "colab": {
          "base_uri": "https://localhost:8080/"
        },
        "id": "snqLcNgvVA4r",
        "outputId": "b0228fbd-14b7-4be9-d074-8bc809cd3590"
      },
      "outputs": [
        {
          "name": "stdout",
          "output_type": "stream",
          "text": [
            "body_text content:\n",
            "{'cite_spans': [],\n",
            " 'ref_spans': [],\n",
            " 'section': '',\n",
            " 'text': 'The Submitting Author accepts and understands that any supply made '\n",
            "         'under these terms is made by BMJ to the Submitting Author unless you '\n",
            "         'are acting as an employee on behalf of your employer or a '\n",
            "         'postgraduate student of an affiliated institution which is paying '\n",
            "         'any applicable article publishing charge (\"APC\") for Open Access '\n",
            "         'articles. Where the Submitting Author wishes to make the Work '\n",
            "         'available on an Open Access basis (and intends to pay the relevant '\n",
            "         'APC), the terms of reuse of such Open Access shall be governed by a '\n",
            "         'Creative Commons licence -details of these licences and which '\n",
            "         'Creative Commons licence will apply to this Work are set out in our '\n",
            "         'licence referred to above.'}\n"
          ]
        }
      ],
      "source": [
        "print(\"body_text content:\")\n",
        "pprint(file['body_text'][1],depth=1)"
      ]
    },
    {
      "cell_type": "code",
      "execution_count": null,
      "metadata": {
        "colab": {
          "base_uri": "https://localhost:8080/"
        },
        "id": "KW_Y2Y6xVLZB",
        "outputId": "62454398-f489-4354-9446-7f4165c3bd93"
      },
      "outputs": [
        {
          "name": "stdout",
          "output_type": "stream",
          "text": [
            "['',\n",
            " 'ABSTRACT Introduction',\n",
            " 'Methods and analysis',\n",
            " 'Ethics and dissemination',\n",
            " 'Strengths and limitations of this study',\n",
            " 'BACKGROUND',\n",
            " 'METHODS',\n",
            " 'Scope of the COS',\n",
            " 'Patient and public involvement (PPI)',\n",
            " 'Stakeholders for COS (participants of Delphi surveys and consensus meeting)',\n",
            " 'i. Patient and public representatives',\n",
            " 'iii. Researchers',\n",
            " 'Stage 1: Hierarchical systematic literature search',\n",
            " 'Search strategy',\n",
            " 'Study selection and data extraction',\n",
            " 'Initial list of outcomes',\n",
            " 'Stage 2: Delphi survey',\n",
            " 'Pilot study',\n",
            " 'st Delphi',\n",
            " 'nd Delphi',\n",
            " 'rd Delphi',\n",
            " 'Stage 3: Consensus meeting',\n",
            " 'Final COS',\n",
            " 'Strength',\n",
            " 'Limitation',\n",
            " 'DISSEMINATION',\n",
            " \"Authors' contributions:\",\n",
            " 'Competing interests: None declared.',\n",
            " 'Stage 1: Systematic literature search',\n",
            " 'Stage 2: Focus groups',\n",
            " 'Page 7 of 20',\n",
            " '3) Researchers',\n",
            " 'Stage 3: Delphi surveys',\n",
            " '1) Patient representatives',\n",
            " 'Stage 4: Consensus meeting',\n",
            " 'DISCUSSION']\n"
          ]
        }
      ],
      "source": [
        "texts = [(di['section'], di['text']) for di in file['body_text']]\n",
        "texts_di = {di['section']: \"\" for di in file['body_text']}\n",
        "for section, text in texts:\n",
        "    texts_di[section] += text\n",
        "\n",
        "pprint(list(texts_di.keys()))"
      ]
    },
    {
      "cell_type": "code",
      "execution_count": null,
      "metadata": {
        "id": "iszb5qdBZmBe"
      },
      "outputs": [],
      "source": [
        "def format_body(body_text):\n",
        "    texts = [(di['section'], di['text']) for di in body_text]\n",
        "    texts_di = {di['section']: \"\" for di in body_text}\n",
        "    \n",
        "    for section, text in texts:\n",
        "        texts_di[section] += text\n",
        "\n",
        "    body = \"\"\n",
        "\n",
        "    for section, text in texts_di.items():\n",
        "        body += section\n",
        "        body += \"\\n\\n\"\n",
        "        body += text\n",
        "        body += \"\\n\\n\"\n",
        "    \n",
        "    return body"
      ]
    },
    {
      "cell_type": "markdown",
      "metadata": {
        "id": "SQfXCyPKQwyb"
      },
      "source": [
        "### Create Metadata Dictionary"
      ]
    },
    {
      "cell_type": "code",
      "execution_count": null,
      "metadata": {
        "colab": {
          "base_uri": "https://localhost:8080/"
        },
        "id": "J7agYLwzX9Yo",
        "outputId": "209eefca-0362-4a74-f5bf-096e9da44ac3"
      },
      "outputs": [
        {
          "name": "stdout",
          "output_type": "stream",
          "text": [
            "dict_keys(['title', 'authors'])\n",
            "Core outcome set for studies of pregnancy affected by multimorbidity: a protocol Protocol for pregnancy affected by multimorbidity COS Title: Core outcome set for studies of pregnancy affected by multimorbidity: a protocol Mairead Black* 11 * indicates equal contribution Affiliation\n"
          ]
        }
      ],
      "source": [
        "print(all_files[0]['metadata'].keys())\n",
        "print(all_files[0]['metadata']['title'])"
      ]
    },
    {
      "cell_type": "code",
      "execution_count": null,
      "metadata": {
        "colab": {
          "base_uri": "https://localhost:8080/"
        },
        "id": "CP82N-cAYG8A",
        "outputId": "dabf9d87-f59e-4527-8640-998aa86affa8"
      },
      "outputs": [
        {
          "name": "stdout",
          "output_type": "stream",
          "text": [
            "[{'affiliation': {'institution': 'University of Birmingham',\n",
            "                  'laboratory': '',\n",
            "                  'location': {'country': 'UK', 'settlement': 'Birmingham'}},\n",
            "  'email': '',\n",
            "  'first': 'Siang',\n",
            "  'last': 'Lee',\n",
            "  'middle': ['Ing'],\n",
            "  'suffix': ''},\n",
            " {'affiliation': {'institution': 'University of St Andrews',\n",
            "                  'laboratory': \"Centre for Public Health, Queen's University \"\n",
            "                                'of Belfast 3',\n",
            "                  'location': {'country': 'UK'}},\n",
            "  'email': '',\n",
            "  'first': 'Kelly-Ann',\n",
            "  'last': 'Eastwood',\n",
            "  'middle': [],\n",
            "  'suffix': ''}]\n"
          ]
        }
      ],
      "source": [
        "authors = all_files[0]['metadata']['authors']\n",
        "pprint(authors[:2])"
      ]
    },
    {
      "cell_type": "code",
      "execution_count": null,
      "metadata": {
        "colab": {
          "base_uri": "https://localhost:8080/"
        },
        "id": "IbM43ryUYKcH",
        "outputId": "7eb04929-1f8f-474f-ef0e-0198ac2b5574"
      },
      "outputs": [
        {
          "name": "stdout",
          "output_type": "stream",
          "text": [
            "Name: Siang Ing Lee\n",
            "Affiliation: University of Birmingham, Birmingham, UK\n",
            "Name: Kelly-Ann Eastwood\n",
            "Affiliation: University of St Andrews, UK\n",
            "Name: Ngawai Moss\n",
            "Affiliation: The University of Manchester\n",
            "Name: Amaya Azcoaga-Lorenzo\n",
            "Affiliation: \n",
            "Name: Anuradhaa Subramanian\n",
            "Affiliation: University of Birmingham, Birmingham, UK\n",
            "Name: Astha Anand\n",
            "Affiliation: University of Birmingham, Birmingham, UK\n",
            "Name: Beck Taylor\n",
            "Affiliation: University of Birmingham, Birmingham, UK\n",
            "Name: Catherine Nelson-Piercy\n",
            "Affiliation: The University of Manchester, UK\n",
            "Name: Christopher Yau\n",
            "Affiliation: University of Birmingham, Birmingham, UK\n",
            "Name: Colin Mccowan\n",
            "Affiliation: \n",
            "Name: Dermot O&apos;reilly\n",
            "Affiliation: University of St Andrews, UK\n",
            "Name: Holly Hope\n",
            "Affiliation: The University of Manchester, UK\n",
            "Name: Jonathan I Kennedy\n",
            "Affiliation: University of Birmingham, Birmingham, UK\n",
            "Name: Kathryn Abel\n",
            "Affiliation: The University of Manchester, UK\n",
            "Name: Louise Locock\n",
            "Affiliation: \n",
            "Name: Peter Brocklehurst\n",
            "Affiliation: University of Birmingham, Birmingham, UK\n",
            "Name: Rachel Plachcinski\n",
            "Affiliation: The University of Manchester\n",
            "Name: Sinead Brophy\n",
            "Affiliation: University of Birmingham, Birmingham, UK\n",
            "Name: Utkarsh Argawal\n",
            "Affiliation: \n",
            "Name: Shakila Thangaratinam\n",
            "Affiliation: \n",
            "Name: Krishnarajah Nirantharakumar\n",
            "Affiliation: University of Birmingham, Birmingham, UK\n",
            "Name: Mairead Black\n",
            "Affiliation: \n",
            "Name: K Ac Nirantharan@bham\n",
            "Affiliation: \n",
            "Name:  Uk\n",
            "Affiliation: \n",
            "Name: Kathryn M Abel\n",
            "Affiliation: \n",
            "Name: Utkarsh Agrawal\n",
            "Affiliation: \n",
            "Name: Orcid : Siang\n",
            "Affiliation: \n"
          ]
        }
      ],
      "source": [
        "def format_name(author):\n",
        "    middle_name = \" \".join(author['middle'])\n",
        "    \n",
        "    if author['middle']:\n",
        "        return \" \".join([author['first'], middle_name, author['last']])\n",
        "    else:\n",
        "        return \" \".join([author['first'], author['last']])\n",
        "\n",
        "\n",
        "def format_affiliation(affiliation):\n",
        "    text = []\n",
        "    location = affiliation.get('location')\n",
        "    if location:\n",
        "        text.extend(list(affiliation['location'].values()))\n",
        "    \n",
        "    institution = affiliation.get('institution')\n",
        "    if institution:\n",
        "        text = [institution] + text\n",
        "    return \", \".join(text)\n",
        "    \n",
        "for author in authors:\n",
        "    print(\"Name:\", format_name(author))\n",
        "    print(\"Affiliation:\", format_affiliation(author['affiliation']))"
      ]
    },
    {
      "cell_type": "code",
      "execution_count": null,
      "metadata": {
        "colab": {
          "base_uri": "https://localhost:8080/"
        },
        "id": "lxIgTVkwYtI7",
        "outputId": "5ce768df-7ec7-4d5f-8b97-defbb39fc7c1"
      },
      "outputs": [
        {
          "name": "stdout",
          "output_type": "stream",
          "text": [
            "Formatting without affiliation:\n",
            "Augustino Isdory, Eunice W Mureithi, David J T Sumpter\n",
            "\n",
            "Formatting with affiliation:\n",
            "Augustino Isdory (University of Dar es Salaam, Dar es Salaam, Tanzania), Eunice W Mureithi (University of Dar es Salaam, Dar es Salaam, Tanzania), David J T Sumpter (Uppsala University, Uppsala, Sweden)\n"
          ]
        }
      ],
      "source": [
        "def format_authors(authors, with_affiliation=False):\n",
        "    name_ls = []\n",
        "    \n",
        "    for author in authors:\n",
        "        name = format_name(author)\n",
        "        if with_affiliation:\n",
        "            affiliation = format_affiliation(author['affiliation'])\n",
        "            if affiliation:\n",
        "                name_ls.append(f\"{name} ({affiliation})\")\n",
        "            else:\n",
        "                name_ls.append(name)\n",
        "        else:\n",
        "            name_ls.append(name)\n",
        "    \n",
        "    return \", \".join(name_ls)  \n",
        "\n",
        "authors = all_files[2]['metadata']['authors']\n",
        "print(\"Formatting without affiliation:\")\n",
        "print(format_authors(authors, with_affiliation=False))\n",
        "print(\"\\nFormatting with affiliation:\")\n",
        "print(format_authors(authors, with_affiliation=True))"
      ]
    },
    {
      "cell_type": "markdown",
      "metadata": {
        "id": "X42_jMu2RR7J"
      },
      "source": [
        "### Create Bibliography Dictionary"
      ]
    },
    {
      "cell_type": "code",
      "execution_count": null,
      "metadata": {
        "colab": {
          "base_uri": "https://localhost:8080/"
        },
        "id": "MW8SEk9XZO6n",
        "outputId": "c792158c-12f7-40dd-f26d-8addc1dc6402"
      },
      "outputs": [
        {
          "name": "stdout",
          "output_type": "stream",
          "text": [
            "Formatting without affiliation:\n",
            "L M Gawron, J N Sanders, K Sward\n"
          ]
        }
      ],
      "source": [
        "bibs = list(file['bib_entries'].values())\n",
        "print(\"Formatting without affiliation:\")\n",
        "print(format_authors(bibs[1]['authors'], with_affiliation=False))"
      ]
    },
    {
      "cell_type": "code",
      "execution_count": null,
      "metadata": {
        "id": "1JSn8zW2ZsZz"
      },
      "outputs": [],
      "source": [
        "def format_bib(bibs):\n",
        "    if type(bibs) == dict:\n",
        "        bibs = list(bibs.values())\n",
        "    bibs = deepcopy(bibs)\n",
        "    formatted = []\n",
        "    \n",
        "    for bib in bibs:\n",
        "        bib['authors'] = format_authors(\n",
        "            bib['authors'], \n",
        "            with_affiliation=False\n",
        "        )\n",
        "        formatted_ls = [str(bib[k]) for k in ['title', 'authors', 'venue', 'year']]\n",
        "        formatted.append(\", \".join(formatted_ls))\n",
        "\n",
        "    return \"; \".join(formatted)"
      ]
    },
    {
      "cell_type": "markdown",
      "metadata": {
        "id": "Ra6mIsRgbim3"
      },
      "source": [
        "### Save Cleaned Files in CSV"
      ]
    },
    {
      "cell_type": "code",
      "execution_count": null,
      "metadata": {
        "colab": {
          "base_uri": "https://localhost:8080/",
          "height": 49,
          "referenced_widgets": [
            "a4dd134a2ca8498696bb62fcb79f4cdc",
            "141361c67c4d4c1ab544cbac313e87ed",
            "8fa1b54913594aefa69ceb97cbccc4e8",
            "af2eeb93eec44cef966f53ecefe9be53",
            "5e2a02f2346347b6928d9baa41743cf8",
            "ebc1886ece104008883e3bbe08d8e9df",
            "7d2b602f9b404078acdecb39b72cdc6f",
            "7ae0dee8712b41beb549fb057e45dfe1",
            "09f2afc62e724d2e8716613f9d45d357",
            "e7ab4d2e63734260a8ff2f5a619efa6b",
            "6c33358e33d24cbcad4055c3a10462ec"
          ]
        },
        "id": "r8-gXKK6ZZ4-",
        "outputId": "fac78b2f-60e5-4d09-b26d-ab46855ae1a6"
      },
      "outputs": [
        {
          "data": {
            "application/vnd.jupyter.widget-view+json": {
              "model_id": "a4dd134a2ca8498696bb62fcb79f4cdc",
              "version_major": 2,
              "version_minor": 0
            },
            "text/plain": [
              "  0%|          | 0/25000 [00:00<?, ?it/s]"
            ]
          },
          "metadata": {},
          "output_type": "display_data"
        }
      ],
      "source": [
        "cleaned_files = []\n",
        "for file in tqdm(all_files):\n",
        "    features = [\n",
        "                file['paper_id'],\n",
        "                file['metadata']['title'],\n",
        "                format_authors(file['metadata']['authors']),\n",
        "                format_authors(file['metadata']['authors'], \n",
        "                              with_affiliation=True),\n",
        "                format_body(file['abstract']),\n",
        "                format_body(file['body_text']),\n",
        "                format_bib(file['bib_entries']),\n",
        "                file['metadata']['authors'],\n",
        "                file['bib_entries']\n",
        "                ]\n",
        "    \n",
        "    cleaned_files.append(features)"
      ]
    },
    {
      "cell_type": "code",
      "execution_count": null,
      "metadata": {
        "colab": {
          "base_uri": "https://localhost:8080/",
          "height": 722
        },
        "id": "0QmDRObwZaVM",
        "outputId": "36beaade-1277-4ebf-84a3-d699b13fafb3"
      },
      "outputs": [
        {
          "data": {
            "text/html": [
              "\n",
              "  <div id=\"df-b24c94b9-0484-4fee-8468-4ea3cec5fb4b\">\n",
              "    <div class=\"colab-df-container\">\n",
              "      <div>\n",
              "<style scoped>\n",
              "    .dataframe tbody tr th:only-of-type {\n",
              "        vertical-align: middle;\n",
              "    }\n",
              "\n",
              "    .dataframe tbody tr th {\n",
              "        vertical-align: top;\n",
              "    }\n",
              "\n",
              "    .dataframe thead th {\n",
              "        text-align: right;\n",
              "    }\n",
              "</style>\n",
              "<table border=\"1\" class=\"dataframe\">\n",
              "  <thead>\n",
              "    <tr style=\"text-align: right;\">\n",
              "      <th></th>\n",
              "      <th>paper_id</th>\n",
              "      <th>title</th>\n",
              "      <th>authors</th>\n",
              "      <th>affiliations</th>\n",
              "      <th>abstract</th>\n",
              "      <th>text</th>\n",
              "      <th>bibliography</th>\n",
              "      <th>raw_authors</th>\n",
              "      <th>raw_bibliography</th>\n",
              "    </tr>\n",
              "  </thead>\n",
              "  <tbody>\n",
              "    <tr>\n",
              "      <th>0</th>\n",
              "      <td>cb2eb2185d80dfe7e3a801a33e997ad4536647d8</td>\n",
              "      <td>Core outcome set for studies of pregnancy affe...</td>\n",
              "      <td>Siang Ing Lee, Kelly-Ann Eastwood, Ngawai Moss...</td>\n",
              "      <td>Siang Ing Lee (University of Birmingham, Birmi...</td>\n",
              "      <td></td>\n",
              "      <td>\\n\\nI, the Submitting Author has the right to ...</td>\n",
              "      <td>Clinical knowledge summaries: Multimorbidity, ...</td>\n",
              "      <td>[{'first': 'Siang', 'middle': ['Ing'], 'last':...</td>\n",
              "      <td>{'BIBREF0': {'ref_id': 'b0', 'title': 'Clinica...</td>\n",
              "    </tr>\n",
              "    <tr>\n",
              "      <th>1</th>\n",
              "      <td>3977edc885f15be3d771c67a57720ecc2d8dbab5</td>\n",
              "      <td>and Public Health Article Dengue Outbreaks in ...</td>\n",
              "      <td>Shin-Yueh Liu, Tsair-Wei Chien, Ting-Ya Yang, ...</td>\n",
              "      <td>Shin-Yueh Liu, Tsair-Wei Chien, Ting-Ya Yang, ...</td>\n",
              "      <td></td>\n",
              "      <td>Introduction\\n\\nDengue is a mosquito-borne vir...</td>\n",
              "      <td>A screening tool for dengue fever in children,...</td>\n",
              "      <td>[{'first': 'Shin-Yueh', 'middle': [], 'last': ...</td>\n",
              "      <td>{'BIBREF0': {'ref_id': 'b0', 'title': 'A scree...</td>\n",
              "    </tr>\n",
              "    <tr>\n",
              "      <th>2</th>\n",
              "      <td>0a4f344f96d5a21e3d0f33e199983738c37a1631</td>\n",
              "      <td>The Impact of Human Mobility on HIV Transmissi...</td>\n",
              "      <td>Augustino Isdory, Eunice W Mureithi, David J T...</td>\n",
              "      <td>Augustino Isdory (University of Dar es Salaam,...</td>\n",
              "      <td>Abstract\\n\\nDisease spreads as a result of peo...</td>\n",
              "      <td>Introduction\\n\\nSince the emergence of HIV/AID...</td>\n",
              "      <td>Transmission Dynamics and control of Severe Ac...</td>\n",
              "      <td>[{'first': 'Augustino', 'middle': [], 'last': ...</td>\n",
              "      <td>{'BIBREF0': {'ref_id': 'b0', 'title': 'Transmi...</td>\n",
              "    </tr>\n",
              "    <tr>\n",
              "      <th>3</th>\n",
              "      <td>a2c1521c8de153490e2a4c18cdc4b078c4fe8061</td>\n",
              "      <td></td>\n",
              "      <td>Stelvio Tonello, Manuela Rizzi, Erica Matino, ...</td>\n",
              "      <td>Stelvio Tonello (Università del Piemonte Orien...</td>\n",
              "      <td></td>\n",
              "      <td>Introduction\\n\\nSince the end of 2019, the wor...</td>\n",
              "      <td>COVID-19 diagnosis -a review of current method...</td>\n",
              "      <td>[{'first': 'Stelvio', 'middle': [], 'last': 'T...</td>\n",
              "      <td>{'BIBREF0': {'ref_id': 'b0', 'title': 'COVID-1...</td>\n",
              "    </tr>\n",
              "    <tr>\n",
              "      <th>4</th>\n",
              "      <td>8a5e42c2cb71818b76fa80c3871f7d715ebc3060</td>\n",
              "      <td>Letter to the Editor Analysis of Continuous Bl...</td>\n",
              "      <td>Adrian H Heald, Mike Stedman, Linda Horne, Rus...</td>\n",
              "      <td>Adrian H Heald (University of Manchester, UK),...</td>\n",
              "      <td>Abstract\\n\\nSince its appearance in 2019, the ...</td>\n",
              "      <td>Letter to the Editor\\n\\nSince its appearance i...</td>\n",
              "      <td>Global Forum on Universal Health Coverage and ...</td>\n",
              "      <td>[{'first': 'Adrian', 'middle': ['H'], 'last': ...</td>\n",
              "      <td>{'BIBREF0': {'ref_id': 'b0', 'title': 'Global ...</td>\n",
              "    </tr>\n",
              "  </tbody>\n",
              "</table>\n",
              "</div>\n",
              "      <button class=\"colab-df-convert\" onclick=\"convertToInteractive('df-b24c94b9-0484-4fee-8468-4ea3cec5fb4b')\"\n",
              "              title=\"Convert this dataframe to an interactive table.\"\n",
              "              style=\"display:none;\">\n",
              "        \n",
              "  <svg xmlns=\"http://www.w3.org/2000/svg\" height=\"24px\"viewBox=\"0 0 24 24\"\n",
              "       width=\"24px\">\n",
              "    <path d=\"M0 0h24v24H0V0z\" fill=\"none\"/>\n",
              "    <path d=\"M18.56 5.44l.94 2.06.94-2.06 2.06-.94-2.06-.94-.94-2.06-.94 2.06-2.06.94zm-11 1L8.5 8.5l.94-2.06 2.06-.94-2.06-.94L8.5 2.5l-.94 2.06-2.06.94zm10 10l.94 2.06.94-2.06 2.06-.94-2.06-.94-.94-2.06-.94 2.06-2.06.94z\"/><path d=\"M17.41 7.96l-1.37-1.37c-.4-.4-.92-.59-1.43-.59-.52 0-1.04.2-1.43.59L10.3 9.45l-7.72 7.72c-.78.78-.78 2.05 0 2.83L4 21.41c.39.39.9.59 1.41.59.51 0 1.02-.2 1.41-.59l7.78-7.78 2.81-2.81c.8-.78.8-2.07 0-2.86zM5.41 20L4 18.59l7.72-7.72 1.47 1.35L5.41 20z\"/>\n",
              "  </svg>\n",
              "      </button>\n",
              "      \n",
              "  <style>\n",
              "    .colab-df-container {\n",
              "      display:flex;\n",
              "      flex-wrap:wrap;\n",
              "      gap: 12px;\n",
              "    }\n",
              "\n",
              "    .colab-df-convert {\n",
              "      background-color: #E8F0FE;\n",
              "      border: none;\n",
              "      border-radius: 50%;\n",
              "      cursor: pointer;\n",
              "      display: none;\n",
              "      fill: #1967D2;\n",
              "      height: 32px;\n",
              "      padding: 0 0 0 0;\n",
              "      width: 32px;\n",
              "    }\n",
              "\n",
              "    .colab-df-convert:hover {\n",
              "      background-color: #E2EBFA;\n",
              "      box-shadow: 0px 1px 2px rgba(60, 64, 67, 0.3), 0px 1px 3px 1px rgba(60, 64, 67, 0.15);\n",
              "      fill: #174EA6;\n",
              "    }\n",
              "\n",
              "    [theme=dark] .colab-df-convert {\n",
              "      background-color: #3B4455;\n",
              "      fill: #D2E3FC;\n",
              "    }\n",
              "\n",
              "    [theme=dark] .colab-df-convert:hover {\n",
              "      background-color: #434B5C;\n",
              "      box-shadow: 0px 1px 3px 1px rgba(0, 0, 0, 0.15);\n",
              "      filter: drop-shadow(0px 1px 2px rgba(0, 0, 0, 0.3));\n",
              "      fill: #FFFFFF;\n",
              "    }\n",
              "  </style>\n",
              "\n",
              "      <script>\n",
              "        const buttonEl =\n",
              "          document.querySelector('#df-b24c94b9-0484-4fee-8468-4ea3cec5fb4b button.colab-df-convert');\n",
              "        buttonEl.style.display =\n",
              "          google.colab.kernel.accessAllowed ? 'block' : 'none';\n",
              "\n",
              "        async function convertToInteractive(key) {\n",
              "          const element = document.querySelector('#df-b24c94b9-0484-4fee-8468-4ea3cec5fb4b');\n",
              "          const dataTable =\n",
              "            await google.colab.kernel.invokeFunction('convertToInteractive',\n",
              "                                                     [key], {});\n",
              "          if (!dataTable) return;\n",
              "\n",
              "          const docLinkHtml = 'Like what you see? Visit the ' +\n",
              "            '<a target=\"_blank\" href=https://colab.research.google.com/notebooks/data_table.ipynb>data table notebook</a>'\n",
              "            + ' to learn more about interactive tables.';\n",
              "          element.innerHTML = '';\n",
              "          dataTable['output_type'] = 'display_data';\n",
              "          await google.colab.output.renderOutput(dataTable, element);\n",
              "          const docLink = document.createElement('div');\n",
              "          docLink.innerHTML = docLinkHtml;\n",
              "          element.appendChild(docLink);\n",
              "        }\n",
              "      </script>\n",
              "    </div>\n",
              "  </div>\n",
              "  "
            ],
            "text/plain": [
              "                                   paper_id  \\\n",
              "0  cb2eb2185d80dfe7e3a801a33e997ad4536647d8   \n",
              "1  3977edc885f15be3d771c67a57720ecc2d8dbab5   \n",
              "2  0a4f344f96d5a21e3d0f33e199983738c37a1631   \n",
              "3  a2c1521c8de153490e2a4c18cdc4b078c4fe8061   \n",
              "4  8a5e42c2cb71818b76fa80c3871f7d715ebc3060   \n",
              "\n",
              "                                               title  \\\n",
              "0  Core outcome set for studies of pregnancy affe...   \n",
              "1  and Public Health Article Dengue Outbreaks in ...   \n",
              "2  The Impact of Human Mobility on HIV Transmissi...   \n",
              "3                                                      \n",
              "4  Letter to the Editor Analysis of Continuous Bl...   \n",
              "\n",
              "                                             authors  \\\n",
              "0  Siang Ing Lee, Kelly-Ann Eastwood, Ngawai Moss...   \n",
              "1  Shin-Yueh Liu, Tsair-Wei Chien, Ting-Ya Yang, ...   \n",
              "2  Augustino Isdory, Eunice W Mureithi, David J T...   \n",
              "3  Stelvio Tonello, Manuela Rizzi, Erica Matino, ...   \n",
              "4  Adrian H Heald, Mike Stedman, Linda Horne, Rus...   \n",
              "\n",
              "                                        affiliations  \\\n",
              "0  Siang Ing Lee (University of Birmingham, Birmi...   \n",
              "1  Shin-Yueh Liu, Tsair-Wei Chien, Ting-Ya Yang, ...   \n",
              "2  Augustino Isdory (University of Dar es Salaam,...   \n",
              "3  Stelvio Tonello (Università del Piemonte Orien...   \n",
              "4  Adrian H Heald (University of Manchester, UK),...   \n",
              "\n",
              "                                            abstract  \\\n",
              "0                                                      \n",
              "1                                                      \n",
              "2  Abstract\\n\\nDisease spreads as a result of peo...   \n",
              "3                                                      \n",
              "4  Abstract\\n\\nSince its appearance in 2019, the ...   \n",
              "\n",
              "                                                text  \\\n",
              "0  \\n\\nI, the Submitting Author has the right to ...   \n",
              "1  Introduction\\n\\nDengue is a mosquito-borne vir...   \n",
              "2  Introduction\\n\\nSince the emergence of HIV/AID...   \n",
              "3  Introduction\\n\\nSince the end of 2019, the wor...   \n",
              "4  Letter to the Editor\\n\\nSince its appearance i...   \n",
              "\n",
              "                                        bibliography  \\\n",
              "0  Clinical knowledge summaries: Multimorbidity, ...   \n",
              "1  A screening tool for dengue fever in children,...   \n",
              "2  Transmission Dynamics and control of Severe Ac...   \n",
              "3  COVID-19 diagnosis -a review of current method...   \n",
              "4  Global Forum on Universal Health Coverage and ...   \n",
              "\n",
              "                                         raw_authors  \\\n",
              "0  [{'first': 'Siang', 'middle': ['Ing'], 'last':...   \n",
              "1  [{'first': 'Shin-Yueh', 'middle': [], 'last': ...   \n",
              "2  [{'first': 'Augustino', 'middle': [], 'last': ...   \n",
              "3  [{'first': 'Stelvio', 'middle': [], 'last': 'T...   \n",
              "4  [{'first': 'Adrian', 'middle': ['H'], 'last': ...   \n",
              "\n",
              "                                    raw_bibliography  \n",
              "0  {'BIBREF0': {'ref_id': 'b0', 'title': 'Clinica...  \n",
              "1  {'BIBREF0': {'ref_id': 'b0', 'title': 'A scree...  \n",
              "2  {'BIBREF0': {'ref_id': 'b0', 'title': 'Transmi...  \n",
              "3  {'BIBREF0': {'ref_id': 'b0', 'title': 'COVID-1...  \n",
              "4  {'BIBREF0': {'ref_id': 'b0', 'title': 'Global ...  "
            ]
          },
          "execution_count": 18,
          "metadata": {},
          "output_type": "execute_result"
        }
      ],
      "source": [
        "def load_files(dirname):\n",
        "    filenames = os.listdir(dirname)\n",
        "    raw_files = []\n",
        "\n",
        "    for filename in tqdm(filenames):\n",
        "        filename = dirname + filename\n",
        "        file = json.load(open(filename, 'rb'))\n",
        "        raw_files.append(file)\n",
        "    \n",
        "    return raw_files\n",
        "\n",
        "def generate_clean_df(all_files):\n",
        "    cleaned_files = []\n",
        "    \n",
        "    for file in tqdm(all_files):\n",
        "        features = [\n",
        "            file['paper_id'],\n",
        "            file['metadata']['title'],\n",
        "            format_authors(file['metadata']['authors']),\n",
        "            format_authors(file['metadata']['authors'], \n",
        "                           with_affiliation=True),\n",
        "            format_body(file['abstract']),\n",
        "            format_body(file['body_text']),\n",
        "            format_bib(file['bib_entries']),\n",
        "            file['metadata']['authors'],\n",
        "            file['bib_entries']\n",
        "        ]\n",
        "\n",
        "        cleaned_files.append(features)\n",
        "\n",
        "    col_names = ['paper_id', 'title', 'authors',\n",
        "                 'affiliations', 'abstract', 'text', \n",
        "                 'bibliography','raw_authors','raw_bibliography']\n",
        "\n",
        "    clean_df = pd.DataFrame(cleaned_files, columns=col_names)\n",
        "    clean_df.head()\n",
        "    \n",
        "    return clean_df\n",
        "\n",
        "col_names = [\n",
        "              'paper_id', \n",
        "              'title', \n",
        "              'authors',\n",
        "              'affiliations', \n",
        "              'abstract', \n",
        "              'text', \n",
        "              'bibliography',\n",
        "              'raw_authors',\n",
        "              'raw_bibliography'    \n",
        "            ]\n",
        "\n",
        "clean_df = pd.DataFrame(cleaned_files, columns=col_names)\n",
        "clean_df.head()"
      ]
    },
    {
      "cell_type": "code",
      "execution_count": null,
      "metadata": {
        "id": "BFPTzY0maNMd"
      },
      "outputs": [],
      "source": [
        "clean_df.to_csv('bio_clean_v1.csv', index=False)"
      ]
    },
    {
      "cell_type": "markdown",
      "metadata": {
        "id": "13M7Qpx_xtv0"
      },
      "source": [
        "## Text Processing"
      ]
    },
    {
      "cell_type": "code",
      "execution_count": null,
      "metadata": {
        "colab": {
          "base_uri": "https://localhost:8080/"
        },
        "id": "4tIUnOCQb7fi",
        "outputId": "1f15bb28-9af9-4573-e0be-2bbeb2c669eb"
      },
      "outputs": [
        {
          "name": "stdout",
          "output_type": "stream",
          "text": [
            "Abstract\n",
            "\n",
            "Carbon emissions have emerged as an alarming and complex issue causing a long-lasting debate over climate change in the construction, building, and industrial sectors. There is tremendous growth in the construction and building industry, especially in low-middle-income developing countries, that involves rising production and consumption of cement and energy. As such, a growing amount of carbon emissions is becoming a serious challenge for developing economies. This study has assessed the driving factors that influence the critical levels of carbon emissions by employing Kaya identity and logarithmic mean Divisia index (LMDI) decomposition models in the growing cement manufacturing sector of a low-medium developing county, Pakistan, from 2005 to 2020. The results portrayed a typical trend of carbon emissions which are summarized as follows: (a) From 2006 to 2010, a slight increase is shown; (b) a slight decrease in the trend during 2011-2013; (c) from 2014 to 2018, there is a rapid rebound in the trend; and (d) a slight decline in 2019-2020. While the resultant mean values regarding the growth of the cement sector (6.34%), labor productivity (12.03%), energy structure (0.06%), energy intensity (− 0.63%), and carbon intensity (− 0.87%) have deliberated that these are the driving factors for carbon emissions by the cement industry in a developing economy. This study will provide an insight to the policymakers of developing nations so that they can efficiently monitor their carbon emissions and design and implement effective mitigation strategies. Ultimately, they would be able to shift to carbon-neutral technologies and renewable-alternative energy sources to achieve sustainable economic growth and a cleaner environment.\n",
            "\n",
            "\n"
          ]
        }
      ],
      "source": [
        "bio_df = pd.read_csv('/content/drive/MyDrive/COVID19_KG/bio_clean_v1.csv')\n",
        "bio_lst = bio_df['abstract'].astype(str).to_list()\n",
        "print(bio_lst[5])"
      ]
    },
    {
      "cell_type": "code",
      "execution_count": null,
      "metadata": {
        "colab": {
          "base_uri": "https://localhost:8080/",
          "height": 480
        },
        "id": "g5vEJftPoaYI",
        "outputId": "030c1062-83f7-4b80-dffd-e0fbfae16238"
      },
      "outputs": [
        {
          "name": "stderr",
          "output_type": "stream",
          "text": [
            "[nltk_data] Downloading package punkt to /root/nltk_data...\n",
            "[nltk_data]   Package punkt is already up-to-date!\n",
            "[nltk_data] Downloading package stopwords to /root/nltk_data...\n",
            "[nltk_data]   Package stopwords is already up-to-date!\n",
            "[nltk_data] Downloading package wordnet to /root/nltk_data...\n",
            "[nltk_data]   Package wordnet is already up-to-date!\n",
            "[nltk_data] Downloading package omw-1.4 to /root/nltk_data...\n",
            "[nltk_data]   Package omw-1.4 is already up-to-date!\n"
          ]
        },
        {
          "data": {
            "text/html": [
              "\n",
              "  <div id=\"df-23720bbf-b72f-4a95-abc2-86918e7c95ea\">\n",
              "    <div class=\"colab-df-container\">\n",
              "      <div>\n",
              "<style scoped>\n",
              "    .dataframe tbody tr th:only-of-type {\n",
              "        vertical-align: middle;\n",
              "    }\n",
              "\n",
              "    .dataframe tbody tr th {\n",
              "        vertical-align: top;\n",
              "    }\n",
              "\n",
              "    .dataframe thead th {\n",
              "        text-align: right;\n",
              "    }\n",
              "</style>\n",
              "<table border=\"1\" class=\"dataframe\">\n",
              "  <thead>\n",
              "    <tr style=\"text-align: right;\">\n",
              "      <th></th>\n",
              "      <th>title</th>\n",
              "      <th>authors</th>\n",
              "      <th>abstract</th>\n",
              "      <th>text</th>\n",
              "    </tr>\n",
              "  </thead>\n",
              "  <tbody>\n",
              "    <tr>\n",
              "      <th>0</th>\n",
              "      <td>Extinction and stationary distribution of a st...</td>\n",
              "      <td>Yuncheng Xu, Xiaojun Sun, Hua Hu, B Hua Hu</td>\n",
              "      <td>by taking full consideration of contact heter...</td>\n",
              "      <td>Introduction\\n\\nInfectious diseases bring huma...</td>\n",
              "    </tr>\n",
              "    <tr>\n",
              "      <th>1</th>\n",
              "      <td>The Effect of a Mindfulness-Based Education Pr...</td>\n",
              "      <td>Mijung Jung, Mikyoung Lee, Ian Walsh</td>\n",
              "      <td>citation jung m lee m the effect of a mindful...</td>\n",
              "      <td>Introduction\\n\\nUniversity students experience...</td>\n",
              "    </tr>\n",
              "    <tr>\n",
              "      <th>2</th>\n",
              "      <td>PROTOCOL FOR A CANADIAN POPULATION-BASED REGIS...</td>\n",
              "      <td>Corinne M Hohl, Rhonda J Rosychuk, Andrew Mcra...</td>\n",
              "      <td>foundation and the fondation du chu de québec...</td>\n",
              "      <td>INTRODUCTION (2478)\\n\\nCoronavirus Disease 201...</td>\n",
              "    </tr>\n",
              "    <tr>\n",
              "      <th>3</th>\n",
              "      <td>Locked nucleic acid (LNA): High affinity targe...</td>\n",
              "      <td>Sakari Kauppinen, Birte Vester, Jesper Wengel</td>\n",
              "      <td>locked nucleic acid lna is a nucleic acid ana...</td>\n",
              "      <td>Introduction\\n\\nThe future challenges in diagn...</td>\n",
              "    </tr>\n",
              "    <tr>\n",
              "      <th>5</th>\n",
              "      <td>Environmental Science and Pollution Research D...</td>\n",
              "      <td>Rizwan Rasheed, · Fizza Tahir, · Muhammad Afza...</td>\n",
              "      <td>carbon emissions have emerged as an alarming ...</td>\n",
              "      <td>Introduction\\n\\nClimate change is arguably the...</td>\n",
              "    </tr>\n",
              "  </tbody>\n",
              "</table>\n",
              "</div>\n",
              "      <button class=\"colab-df-convert\" onclick=\"convertToInteractive('df-23720bbf-b72f-4a95-abc2-86918e7c95ea')\"\n",
              "              title=\"Convert this dataframe to an interactive table.\"\n",
              "              style=\"display:none;\">\n",
              "        \n",
              "  <svg xmlns=\"http://www.w3.org/2000/svg\" height=\"24px\"viewBox=\"0 0 24 24\"\n",
              "       width=\"24px\">\n",
              "    <path d=\"M0 0h24v24H0V0z\" fill=\"none\"/>\n",
              "    <path d=\"M18.56 5.44l.94 2.06.94-2.06 2.06-.94-2.06-.94-.94-2.06-.94 2.06-2.06.94zm-11 1L8.5 8.5l.94-2.06 2.06-.94-2.06-.94L8.5 2.5l-.94 2.06-2.06.94zm10 10l.94 2.06.94-2.06 2.06-.94-2.06-.94-.94-2.06-.94 2.06-2.06.94z\"/><path d=\"M17.41 7.96l-1.37-1.37c-.4-.4-.92-.59-1.43-.59-.52 0-1.04.2-1.43.59L10.3 9.45l-7.72 7.72c-.78.78-.78 2.05 0 2.83L4 21.41c.39.39.9.59 1.41.59.51 0 1.02-.2 1.41-.59l7.78-7.78 2.81-2.81c.8-.78.8-2.07 0-2.86zM5.41 20L4 18.59l7.72-7.72 1.47 1.35L5.41 20z\"/>\n",
              "  </svg>\n",
              "      </button>\n",
              "      \n",
              "  <style>\n",
              "    .colab-df-container {\n",
              "      display:flex;\n",
              "      flex-wrap:wrap;\n",
              "      gap: 12px;\n",
              "    }\n",
              "\n",
              "    .colab-df-convert {\n",
              "      background-color: #E8F0FE;\n",
              "      border: none;\n",
              "      border-radius: 50%;\n",
              "      cursor: pointer;\n",
              "      display: none;\n",
              "      fill: #1967D2;\n",
              "      height: 32px;\n",
              "      padding: 0 0 0 0;\n",
              "      width: 32px;\n",
              "    }\n",
              "\n",
              "    .colab-df-convert:hover {\n",
              "      background-color: #E2EBFA;\n",
              "      box-shadow: 0px 1px 2px rgba(60, 64, 67, 0.3), 0px 1px 3px 1px rgba(60, 64, 67, 0.15);\n",
              "      fill: #174EA6;\n",
              "    }\n",
              "\n",
              "    [theme=dark] .colab-df-convert {\n",
              "      background-color: #3B4455;\n",
              "      fill: #D2E3FC;\n",
              "    }\n",
              "\n",
              "    [theme=dark] .colab-df-convert:hover {\n",
              "      background-color: #434B5C;\n",
              "      box-shadow: 0px 1px 3px 1px rgba(0, 0, 0, 0.15);\n",
              "      filter: drop-shadow(0px 1px 2px rgba(0, 0, 0, 0.3));\n",
              "      fill: #FFFFFF;\n",
              "    }\n",
              "  </style>\n",
              "\n",
              "      <script>\n",
              "        const buttonEl =\n",
              "          document.querySelector('#df-23720bbf-b72f-4a95-abc2-86918e7c95ea button.colab-df-convert');\n",
              "        buttonEl.style.display =\n",
              "          google.colab.kernel.accessAllowed ? 'block' : 'none';\n",
              "\n",
              "        async function convertToInteractive(key) {\n",
              "          const element = document.querySelector('#df-23720bbf-b72f-4a95-abc2-86918e7c95ea');\n",
              "          const dataTable =\n",
              "            await google.colab.kernel.invokeFunction('convertToInteractive',\n",
              "                                                     [key], {});\n",
              "          if (!dataTable) return;\n",
              "\n",
              "          const docLinkHtml = 'Like what you see? Visit the ' +\n",
              "            '<a target=\"_blank\" href=https://colab.research.google.com/notebooks/data_table.ipynb>data table notebook</a>'\n",
              "            + ' to learn more about interactive tables.';\n",
              "          element.innerHTML = '';\n",
              "          dataTable['output_type'] = 'display_data';\n",
              "          await google.colab.output.renderOutput(dataTable, element);\n",
              "          const docLink = document.createElement('div');\n",
              "          docLink.innerHTML = docLinkHtml;\n",
              "          element.appendChild(docLink);\n",
              "        }\n",
              "      </script>\n",
              "    </div>\n",
              "  </div>\n",
              "  "
            ],
            "text/plain": [
              "                                               title  \\\n",
              "0  Extinction and stationary distribution of a st...   \n",
              "1  The Effect of a Mindfulness-Based Education Pr...   \n",
              "2  PROTOCOL FOR A CANADIAN POPULATION-BASED REGIS...   \n",
              "3  Locked nucleic acid (LNA): High affinity targe...   \n",
              "5  Environmental Science and Pollution Research D...   \n",
              "\n",
              "                                             authors  \\\n",
              "0         Yuncheng Xu, Xiaojun Sun, Hua Hu, B Hua Hu   \n",
              "1               Mijung Jung, Mikyoung Lee, Ian Walsh   \n",
              "2  Corinne M Hohl, Rhonda J Rosychuk, Andrew Mcra...   \n",
              "3      Sakari Kauppinen, Birte Vester, Jesper Wengel   \n",
              "5  Rizwan Rasheed, · Fizza Tahir, · Muhammad Afza...   \n",
              "\n",
              "                                            abstract  \\\n",
              "0   by taking full consideration of contact heter...   \n",
              "1   citation jung m lee m the effect of a mindful...   \n",
              "2   foundation and the fondation du chu de québec...   \n",
              "3   locked nucleic acid lna is a nucleic acid ana...   \n",
              "5   carbon emissions have emerged as an alarming ...   \n",
              "\n",
              "                                                text  \n",
              "0  Introduction\\n\\nInfectious diseases bring huma...  \n",
              "1  Introduction\\n\\nUniversity students experience...  \n",
              "2  INTRODUCTION (2478)\\n\\nCoronavirus Disease 201...  \n",
              "3  Introduction\\n\\nThe future challenges in diagn...  \n",
              "5  Introduction\\n\\nClimate change is arguably the...  "
            ]
          },
          "execution_count": 17,
          "metadata": {},
          "output_type": "execute_result"
        }
      ],
      "source": [
        "from nltk.tokenize import sent_tokenize, word_tokenize\n",
        "from nltk.stem import WordNetLemmatizer\n",
        "\n",
        "from sklearn.feature_extraction.text import TfidfVectorizer\n",
        "from sklearn.metrics.pairwise import cosine_similarity\n",
        "\n",
        "import sqlite3\n",
        "import dill as pickle\n",
        "import string\n",
        "\n",
        "import nltk\n",
        "nltk.download('punkt')\n",
        "nltk.download('stopwords')\n",
        "nltk.download('wordnet')\n",
        "nltk.download('omw-1.4')\n",
        "\n",
        "def remove_url(text):\n",
        "    url = re.compile(r'https?://\\S+|www\\.\\S+')\n",
        "    return url.sub(r'',text)\n",
        "\n",
        "def remove_punct(text):\n",
        "    table = str.maketrans('', '', string.punctuation)\n",
        "    return text.translate(table)\n",
        "\n",
        "def remove_html(text):\n",
        "    html=re.compile(r'<.*?>')\n",
        "    return html.sub(r'',text)\n",
        "\n",
        "def decontraction(text):\n",
        "    text = re.sub(r\"won\\'t\", \" will not\", text)\n",
        "    text = re.sub(r\"won\\'t've\", \" will not have\", text)\n",
        "    text = re.sub(r\"can\\'t\", \" can not\", text)\n",
        "    text = re.sub(r\"don\\'t\", \" do not\", text)\n",
        "    \n",
        "    text = re.sub(r\"can\\'t've\", \" can not have\", text)\n",
        "    text = re.sub(r\"ma\\'am\", \" madam\", text)\n",
        "    text = re.sub(r\"let\\'s\", \" let us\", text)\n",
        "    text = re.sub(r\"ain\\'t\", \" am not\", text)\n",
        "    text = re.sub(r\"shan\\'t\", \" shall not\", text)\n",
        "    text = re.sub(r\"sha\\n't\", \" shall not\", text)\n",
        "    text = re.sub(r\"o\\'clock\", \" of the clock\", text)\n",
        "    text = re.sub(r\"y\\'all\", \" you all\", text)\n",
        "\n",
        "    text = re.sub(r\"n\\'t\", \" not\", text)\n",
        "    text = re.sub(r\"n\\'t've\", \" not have\", text)\n",
        "    text = re.sub(r\"\\'re\", \" are\", text)\n",
        "    text = re.sub(r\"\\'s\", \" is\", text)\n",
        "    text = re.sub(r\"\\'d\", \" would\", text)\n",
        "    text = re.sub(r\"\\'d've\", \" would have\", text)\n",
        "    text = re.sub(r\"\\'ll\", \" will\", text)\n",
        "    text = re.sub(r\"\\'ll've\", \" will have\", text)\n",
        "    text = re.sub(r\"\\'t\", \" not\", text)\n",
        "    text = re.sub(r\"\\'ve\", \" have\", text)\n",
        "    text = re.sub(r\"\\'m\", \" am\", text)\n",
        "    text = re.sub(r\"\\'re\", \" are\", text)\n",
        "    text = re.sub(r\"\\s+\", \" \", text)\n",
        "    return text \n",
        "\n",
        "def seperate_alphanumeric(text):\n",
        "    words = text\n",
        "    words = re.findall(r\"[^\\W\\d_]+|\\d+\", words)\n",
        "    return \" \".join(words)\n",
        "\n",
        "def clean_text(text):\n",
        "    '''\n",
        "    Make text lowercase, \n",
        "    remove text in square brackets,\n",
        "    remove links,\n",
        "    remove punctuation\n",
        "    and remove words containing numbers.\n",
        "    '''\n",
        "    text = str(text).lower()\n",
        "    text = re.sub(r\"<[^>]*>\", \"\", text)  # remove HTML tags\n",
        "    text = re.sub('\\[.*?\\]', ' ', text)\n",
        "    text = re.sub('https?://\\S+|www\\.\\S+', ' ', text)\n",
        "    text = re.sub('<.*?>+', ' ', text)\n",
        "    text = re.sub('[%s]' % re.escape(string.punctuation), '', text)\n",
        "    text = re.sub('\\n', ' ', text)\n",
        "    text = re.sub('\\w*\\d\\w*', ' ', text)\n",
        "    text = re.sub('\\'',' ', text)\n",
        "    text = re.sub(r'\\W+', ' ', text)\n",
        "    return text \n",
        "\n",
        "biorx_df=bio_df.copy()\n",
        "biorx_df=biorx_df.dropna()\n",
        "#for col in ['title','authors','abstract','text']:\n",
        "for col in ['abstract']:\n",
        "    biorx_df[col]=biorx_df[col].apply(lambda x : remove_url(str(x)))\n",
        "    biorx_df[col]=biorx_df[col].apply(lambda x : remove_punct(str(x)))\n",
        "    biorx_df[col]=biorx_df[col].apply(lambda x : decontraction(str(x)))\n",
        "    biorx_df[col]=biorx_df[col].apply(lambda x : seperate_alphanumeric(str(x)))\n",
        "    biorx_df[col]=biorx_df[col].apply(lambda x: clean_text(str(x)))\n",
        "\n",
        "biorx_df['abstract']=biorx_df['abstract'].apply(lambda x: str(x)[8:])\n",
        "biorx_df[['title','authors','abstract','text']].head()"
      ]
    },
    {
      "cell_type": "code",
      "execution_count": null,
      "metadata": {
        "id": "mDy8HGqXmM2A"
      },
      "outputs": [],
      "source": [
        "title = biorx_df['title']\n",
        "author = biorx_df['authors']\n",
        "abstract = biorx_df['abstract']\n",
        "body = biorx_df['text']"
      ]
    },
    {
      "cell_type": "markdown",
      "metadata": {
        "id": "YNZhRq6b1cmw"
      },
      "source": [
        "## Embedding with TF-IDF "
      ]
    },
    {
      "cell_type": "code",
      "execution_count": null,
      "metadata": {
        "id": "wqgBilS2mIye"
      },
      "outputs": [],
      "source": [
        "def preprocess_text(text):\n",
        "    tokenizer = nltk.RegexpTokenizer(r'[A-Za-z]+')\n",
        "    tokens = tokenizer.tokenize(text)\n",
        " \n",
        "    nltk_stop_words = nltk.corpus.stopwords.words('english')\n",
        "    tokens = [token for token in tokens if token not in nltk_stop_words]\n",
        "\n",
        "    lemmatizer = WordNetLemmatizer()\n",
        "    tokens = [lemmatizer.lemmatize(t.lower()) for t in tokens]\n",
        "\n",
        "    return tokens\n",
        "\n",
        "vectorizer = TfidfVectorizer(analyzer=preprocess_text, min_df=40)\n",
        "document_tf_idf_fit = vectorizer.fit(abstract)\n",
        "document_tf_idf = vectorizer.transform(abstract)"
      ]
    },
    {
      "cell_type": "code",
      "execution_count": null,
      "metadata": {
        "colab": {
          "base_uri": "https://localhost:8080/",
          "height": 335
        },
        "id": "k0I5CSz6szeN",
        "outputId": "6d20742d-536c-4b06-984f-cff10ca219df"
      },
      "outputs": [
        {
          "name": "stderr",
          "output_type": "stream",
          "text": [
            "/usr/local/lib/python3.7/dist-packages/sklearn/utils/deprecation.py:87: FutureWarning: Function get_feature_names is deprecated; get_feature_names is deprecated in 1.0 and will be removed in 1.2. Please use get_feature_names_out instead.\n",
            "  warnings.warn(msg, category=FutureWarning)\n"
          ]
        },
        {
          "data": {
            "text/html": [
              "\n",
              "  <div id=\"df-193158d7-f75e-441b-a0c0-f83ad0ab01f1\">\n",
              "    <div class=\"colab-df-container\">\n",
              "      <div>\n",
              "<style scoped>\n",
              "    .dataframe tbody tr th:only-of-type {\n",
              "        vertical-align: middle;\n",
              "    }\n",
              "\n",
              "    .dataframe tbody tr th {\n",
              "        vertical-align: top;\n",
              "    }\n",
              "\n",
              "    .dataframe thead th {\n",
              "        text-align: right;\n",
              "    }\n",
              "</style>\n",
              "<table border=\"1\" class=\"dataframe\">\n",
              "  <thead>\n",
              "    <tr style=\"text-align: right;\">\n",
              "      <th></th>\n",
              "      <th>aa</th>\n",
              "      <th>ab</th>\n",
              "      <th>abbreviation</th>\n",
              "      <th>abdominal</th>\n",
              "      <th>ability</th>\n",
              "      <th>able</th>\n",
              "      <th>abnormal</th>\n",
              "      <th>abnormality</th>\n",
              "      <th>absence</th>\n",
              "      <th>absent</th>\n",
              "      <th>...</th>\n",
              "      <th>youth</th>\n",
              "      <th>z</th>\n",
              "      <th>zero</th>\n",
              "      <th>zhang</th>\n",
              "      <th>zika</th>\n",
              "      <th>zinc</th>\n",
              "      <th>zone</th>\n",
              "      <th>zoonotic</th>\n",
              "      <th>zu</th>\n",
              "      <th>zur</th>\n",
              "    </tr>\n",
              "  </thead>\n",
              "  <tbody>\n",
              "    <tr>\n",
              "      <th>0</th>\n",
              "      <td>0.0</td>\n",
              "      <td>0.0</td>\n",
              "      <td>0.0</td>\n",
              "      <td>0.0</td>\n",
              "      <td>0.0</td>\n",
              "      <td>0.000000</td>\n",
              "      <td>0.0</td>\n",
              "      <td>0.0</td>\n",
              "      <td>0.0</td>\n",
              "      <td>0.0</td>\n",
              "      <td>...</td>\n",
              "      <td>0.0</td>\n",
              "      <td>0.0</td>\n",
              "      <td>0.0</td>\n",
              "      <td>0.0</td>\n",
              "      <td>0.0</td>\n",
              "      <td>0.0</td>\n",
              "      <td>0.0</td>\n",
              "      <td>0.0</td>\n",
              "      <td>0.0</td>\n",
              "      <td>0.0</td>\n",
              "    </tr>\n",
              "    <tr>\n",
              "      <th>1</th>\n",
              "      <td>0.0</td>\n",
              "      <td>0.0</td>\n",
              "      <td>0.0</td>\n",
              "      <td>0.0</td>\n",
              "      <td>0.0</td>\n",
              "      <td>0.000000</td>\n",
              "      <td>0.0</td>\n",
              "      <td>0.0</td>\n",
              "      <td>0.0</td>\n",
              "      <td>0.0</td>\n",
              "      <td>...</td>\n",
              "      <td>0.0</td>\n",
              "      <td>0.0</td>\n",
              "      <td>0.0</td>\n",
              "      <td>0.0</td>\n",
              "      <td>0.0</td>\n",
              "      <td>0.0</td>\n",
              "      <td>0.0</td>\n",
              "      <td>0.0</td>\n",
              "      <td>0.0</td>\n",
              "      <td>0.0</td>\n",
              "    </tr>\n",
              "    <tr>\n",
              "      <th>2</th>\n",
              "      <td>0.0</td>\n",
              "      <td>0.0</td>\n",
              "      <td>0.0</td>\n",
              "      <td>0.0</td>\n",
              "      <td>0.0</td>\n",
              "      <td>0.000000</td>\n",
              "      <td>0.0</td>\n",
              "      <td>0.0</td>\n",
              "      <td>0.0</td>\n",
              "      <td>0.0</td>\n",
              "      <td>...</td>\n",
              "      <td>0.0</td>\n",
              "      <td>0.0</td>\n",
              "      <td>0.0</td>\n",
              "      <td>0.0</td>\n",
              "      <td>0.0</td>\n",
              "      <td>0.0</td>\n",
              "      <td>0.0</td>\n",
              "      <td>0.0</td>\n",
              "      <td>0.0</td>\n",
              "      <td>0.0</td>\n",
              "    </tr>\n",
              "    <tr>\n",
              "      <th>3</th>\n",
              "      <td>0.0</td>\n",
              "      <td>0.0</td>\n",
              "      <td>0.0</td>\n",
              "      <td>0.0</td>\n",
              "      <td>0.0</td>\n",
              "      <td>0.000000</td>\n",
              "      <td>0.0</td>\n",
              "      <td>0.0</td>\n",
              "      <td>0.0</td>\n",
              "      <td>0.0</td>\n",
              "      <td>...</td>\n",
              "      <td>0.0</td>\n",
              "      <td>0.0</td>\n",
              "      <td>0.0</td>\n",
              "      <td>0.0</td>\n",
              "      <td>0.0</td>\n",
              "      <td>0.0</td>\n",
              "      <td>0.0</td>\n",
              "      <td>0.0</td>\n",
              "      <td>0.0</td>\n",
              "      <td>0.0</td>\n",
              "    </tr>\n",
              "    <tr>\n",
              "      <th>4</th>\n",
              "      <td>0.0</td>\n",
              "      <td>0.0</td>\n",
              "      <td>0.0</td>\n",
              "      <td>0.0</td>\n",
              "      <td>0.0</td>\n",
              "      <td>0.051615</td>\n",
              "      <td>0.0</td>\n",
              "      <td>0.0</td>\n",
              "      <td>0.0</td>\n",
              "      <td>0.0</td>\n",
              "      <td>...</td>\n",
              "      <td>0.0</td>\n",
              "      <td>0.0</td>\n",
              "      <td>0.0</td>\n",
              "      <td>0.0</td>\n",
              "      <td>0.0</td>\n",
              "      <td>0.0</td>\n",
              "      <td>0.0</td>\n",
              "      <td>0.0</td>\n",
              "      <td>0.0</td>\n",
              "      <td>0.0</td>\n",
              "    </tr>\n",
              "  </tbody>\n",
              "</table>\n",
              "<p>5 rows × 4769 columns</p>\n",
              "</div>\n",
              "      <button class=\"colab-df-convert\" onclick=\"convertToInteractive('df-193158d7-f75e-441b-a0c0-f83ad0ab01f1')\"\n",
              "              title=\"Convert this dataframe to an interactive table.\"\n",
              "              style=\"display:none;\">\n",
              "        \n",
              "  <svg xmlns=\"http://www.w3.org/2000/svg\" height=\"24px\"viewBox=\"0 0 24 24\"\n",
              "       width=\"24px\">\n",
              "    <path d=\"M0 0h24v24H0V0z\" fill=\"none\"/>\n",
              "    <path d=\"M18.56 5.44l.94 2.06.94-2.06 2.06-.94-2.06-.94-.94-2.06-.94 2.06-2.06.94zm-11 1L8.5 8.5l.94-2.06 2.06-.94-2.06-.94L8.5 2.5l-.94 2.06-2.06.94zm10 10l.94 2.06.94-2.06 2.06-.94-2.06-.94-.94-2.06-.94 2.06-2.06.94z\"/><path d=\"M17.41 7.96l-1.37-1.37c-.4-.4-.92-.59-1.43-.59-.52 0-1.04.2-1.43.59L10.3 9.45l-7.72 7.72c-.78.78-.78 2.05 0 2.83L4 21.41c.39.39.9.59 1.41.59.51 0 1.02-.2 1.41-.59l7.78-7.78 2.81-2.81c.8-.78.8-2.07 0-2.86zM5.41 20L4 18.59l7.72-7.72 1.47 1.35L5.41 20z\"/>\n",
              "  </svg>\n",
              "      </button>\n",
              "      \n",
              "  <style>\n",
              "    .colab-df-container {\n",
              "      display:flex;\n",
              "      flex-wrap:wrap;\n",
              "      gap: 12px;\n",
              "    }\n",
              "\n",
              "    .colab-df-convert {\n",
              "      background-color: #E8F0FE;\n",
              "      border: none;\n",
              "      border-radius: 50%;\n",
              "      cursor: pointer;\n",
              "      display: none;\n",
              "      fill: #1967D2;\n",
              "      height: 32px;\n",
              "      padding: 0 0 0 0;\n",
              "      width: 32px;\n",
              "    }\n",
              "\n",
              "    .colab-df-convert:hover {\n",
              "      background-color: #E2EBFA;\n",
              "      box-shadow: 0px 1px 2px rgba(60, 64, 67, 0.3), 0px 1px 3px 1px rgba(60, 64, 67, 0.15);\n",
              "      fill: #174EA6;\n",
              "    }\n",
              "\n",
              "    [theme=dark] .colab-df-convert {\n",
              "      background-color: #3B4455;\n",
              "      fill: #D2E3FC;\n",
              "    }\n",
              "\n",
              "    [theme=dark] .colab-df-convert:hover {\n",
              "      background-color: #434B5C;\n",
              "      box-shadow: 0px 1px 3px 1px rgba(0, 0, 0, 0.15);\n",
              "      filter: drop-shadow(0px 1px 2px rgba(0, 0, 0, 0.3));\n",
              "      fill: #FFFFFF;\n",
              "    }\n",
              "  </style>\n",
              "\n",
              "      <script>\n",
              "        const buttonEl =\n",
              "          document.querySelector('#df-193158d7-f75e-441b-a0c0-f83ad0ab01f1 button.colab-df-convert');\n",
              "        buttonEl.style.display =\n",
              "          google.colab.kernel.accessAllowed ? 'block' : 'none';\n",
              "\n",
              "        async function convertToInteractive(key) {\n",
              "          const element = document.querySelector('#df-193158d7-f75e-441b-a0c0-f83ad0ab01f1');\n",
              "          const dataTable =\n",
              "            await google.colab.kernel.invokeFunction('convertToInteractive',\n",
              "                                                     [key], {});\n",
              "          if (!dataTable) return;\n",
              "\n",
              "          const docLinkHtml = 'Like what you see? Visit the ' +\n",
              "            '<a target=\"_blank\" href=https://colab.research.google.com/notebooks/data_table.ipynb>data table notebook</a>'\n",
              "            + ' to learn more about interactive tables.';\n",
              "          element.innerHTML = '';\n",
              "          dataTable['output_type'] = 'display_data';\n",
              "          await google.colab.output.renderOutput(dataTable, element);\n",
              "          const docLink = document.createElement('div');\n",
              "          docLink.innerHTML = docLinkHtml;\n",
              "          element.appendChild(docLink);\n",
              "        }\n",
              "      </script>\n",
              "    </div>\n",
              "  </div>\n",
              "  "
            ],
            "text/plain": [
              "    aa   ab  abbreviation  abdominal  ability      able  abnormal  \\\n",
              "0  0.0  0.0           0.0        0.0      0.0  0.000000       0.0   \n",
              "1  0.0  0.0           0.0        0.0      0.0  0.000000       0.0   \n",
              "2  0.0  0.0           0.0        0.0      0.0  0.000000       0.0   \n",
              "3  0.0  0.0           0.0        0.0      0.0  0.000000       0.0   \n",
              "4  0.0  0.0           0.0        0.0      0.0  0.051615       0.0   \n",
              "\n",
              "   abnormality  absence  absent  ...  youth    z  zero  zhang  zika  zinc  \\\n",
              "0          0.0      0.0     0.0  ...    0.0  0.0   0.0    0.0   0.0   0.0   \n",
              "1          0.0      0.0     0.0  ...    0.0  0.0   0.0    0.0   0.0   0.0   \n",
              "2          0.0      0.0     0.0  ...    0.0  0.0   0.0    0.0   0.0   0.0   \n",
              "3          0.0      0.0     0.0  ...    0.0  0.0   0.0    0.0   0.0   0.0   \n",
              "4          0.0      0.0     0.0  ...    0.0  0.0   0.0    0.0   0.0   0.0   \n",
              "\n",
              "   zone  zoonotic   zu  zur  \n",
              "0   0.0       0.0  0.0  0.0  \n",
              "1   0.0       0.0  0.0  0.0  \n",
              "2   0.0       0.0  0.0  0.0  \n",
              "3   0.0       0.0  0.0  0.0  \n",
              "4   0.0       0.0  0.0  0.0  \n",
              "\n",
              "[5 rows x 4769 columns]"
            ]
          },
          "execution_count": 11,
          "metadata": {},
          "output_type": "execute_result"
        }
      ],
      "source": [
        "feature_names = vectorizer.get_feature_names_out()\n",
        "dense = document_tf_idf.todense().tolist()\n",
        "tfidf = pd.DataFrame(dense, columns=feature_names)\n",
        "tfidf.head()"
      ]
    },
    {
      "cell_type": "code",
      "execution_count": null,
      "metadata": {
        "id": "7kqsBQ0TtCN-"
      },
      "outputs": [],
      "source": [
        "with open('vectorizer.pickle', 'wb') as file:\n",
        "    pickle.dump(vectorizer, file)\n",
        "    \n",
        "with open('document_tf_idf.pickle', 'wb') as file:\n",
        "    pickle.dump(document_tf_idf, file)"
      ]
    },
    {
      "cell_type": "code",
      "execution_count": null,
      "metadata": {
        "id": "PM-zaybBt9Ig"
      },
      "outputs": [],
      "source": [
        "with open('vectorizer.pickle', 'rb') as file:\n",
        "    vectorizer = pickle.load(file)\n",
        "        \n",
        "with open('document_tf_idf.pickle', 'rb') as file:\n",
        "    document_tf_idf = pickle.load(file)"
      ]
    },
    {
      "cell_type": "markdown",
      "metadata": {
        "id": "2o6_W44oveFu"
      },
      "source": [
        "## Implement Search Engine using TF-IDF \n",
        "Input a question relating to Covid 19, it will return related articles "
      ]
    },
    {
      "cell_type": "code",
      "execution_count": null,
      "metadata": {
        "id": "0DpZlmUit9Ey"
      },
      "outputs": [],
      "source": [
        "query = ['what is long covid?']"
      ]
    },
    {
      "cell_type": "code",
      "execution_count": null,
      "metadata": {
        "colab": {
          "base_uri": "https://localhost:8080/"
        },
        "id": "0xnkJPxhuRAq",
        "outputId": "a6f1b608-52eb-4f71-dc37-aac1f161dd5e"
      },
      "outputs": [
        {
          "name": "stdout",
          "output_type": "stream",
          "text": [
            "3078\n"
          ]
        }
      ],
      "source": [
        "vectorizer = TfidfVectorizer()\n",
        "vectors = vectorizer.fit_transform([c['concepts'] for c in corpus])\n",
        "\n",
        "def search(query):\n",
        "  query_tf_idf = vectorizer.transform(query)\n",
        "  scores = document_weight * cosine_similarity(document_tf_idf, query_tf_idf) \n",
        "  print(scores.argmax())\n",
        "  results = []\n",
        "  for i, score in enumerate(scores):\n",
        "    if score > 0.5:\n",
        "      results.append(corpus[i])\n",
        "  return results\n",
        "  \n",
        "search(query)"
      ]
    },
    {
      "cell_type": "code",
      "execution_count": null,
      "metadata": {
        "colab": {
          "base_uri": "https://localhost:8080/",
          "height": 178
        },
        "id": "unJYeMbZuQ1i",
        "outputId": "2d2f20fa-7bc1-4a39-9e49-4f7f07d18c1c"
      },
      "outputs": [
        {
          "data": {
            "application/vnd.google.colaboratory.intrinsic+json": {
              "type": "string"
            },
            "text/plain": [
              "' people who have covid can experience symptoms for months studies on long covid in the population lack representative samples and longitudinal data focusing on newonset symptoms occurring with covid while accounting for preinfection symptoms we use a sample representing the us community population from the understanding america study covid survey which surveyed around respondents biweekly from march to march our nal sample includes infected individuals who were interviewed one month before around the time of and weeks after infection about of the sample experienced newonset symptoms during infection which lasted for more than weeks and thus can be considered as having long covid the most common persistent newonset symptoms among those included in the study were headache runny or stuffy nose abdominal discomfort fatigue and diarrhea long covid was more likely among obese individuals or p and those who experienced hair loss or p headache or p and sore throat or p during infection risk was unrelated to age gender raceethnicity education current smoking status or comorbid chronic conditions this work provides national estimates of long covid in a representative sample after accounting for preinfection symptomswhitaker et al reported that among respondents who reported a valid date of symptom onset experienced at least one symptom for more than weeks these two studies indicated lower prevalence of long covid prevalence compared to other previously discussed studies and thus further suggest that study design has a large in uence on the estimates importantly these estimates are based on respondents symptoms reported after infection but did not consider symptoms prior to the infectionlong covid can affect multiple organs and body systems and can be re ected in a wide range of longlasting symptoms according to public health agencies the most commonly reported long covid symptoms include respiratory abnormality tiredness neurocognitive problems pain ulike symptoms changes in smell or taste as well as symptoms related to the cardiovascular system digestive system hair and skin some symptoms of covid are fairly common symptoms occurring also in noncovid persons symptoms included in assessment of long covid such as fatigue headache body ache sneezing and dry skin are common to other health conditions and may be linked to seasonal environmental conditions even among the healthy populationthus a potential limitation of previous studies is that they may have overestimated the prevalence of long covid because they did not account for preinfection symptoms this limitation has been acknowledged in some earlier work but the lack of longitudinal data has thus far precluded a close examination of thisin addition to interest in the population prevalence of long covid it is important to determine if long covid risk differs across the population previous studies have found older adults and women to have elevated risks of long covid existing health conditions may increase the risk of long covid as well the most commonly and consistently reported long covid risk factor is obesity which is also one of the strongest risk factors for severe covid illness preexisting conditions in general and asthma are also found to be associated with higher risk of long covidsymptoms during acute covid might predict long covid as well augustin et al found the people experiencing anosmia and diarrhea are more likely to develop persistent symptoms according to the cdc in the us socioeconomic and environmental factors are associated with increased risk of exposure to covid and these factors disproportionately affect racial and ethnic minority groups though there is no direct evidence suggesting that those factors are associated with the risk of long covid racialethnic minorities and people with low education may be more at risk for long covid as wellin the current study we used survey data from a nationally representative sample of communitydwelling us adults conducted from march to march to estimate the baselinesymptomadjusted prevalence of long covid show the most commonly reported long covid symptoms and identify the risk factors of becoming a covid long hauler methods infection admittedly the current approach only picks up on newonset symptoms and not the changing severity of symptoms but still due to the relatively high prevalence of symptoms in our sample even before covid our longitudinal and conservative approach can help avoid possible overestimationcompared to the estimates of long covid prevalence based on other nationally representative studies our nal estimate based on uas data is between the uk ons estimate and the whitaker et al estimate the three studies are similar in study design and population representativeness so the difference in estimates may re ect to the different number of symptoms used in each study speci cally the ons estimate is based on symptoms while the whitaker et al estimate on symptoms the current study included symptoms which is roughly between the other two studies the symptoms included in react but not in uas include sudden swelling to face or lips sore eyes purple scoresblisters on feet numbnesstingling hoarse voice heavy armslegs dizziness di culty sleeping chills and appetite loss however these symptoms generally have low prevalence among the sarscov infected andor diminish quickly after initial infection hence the lack of these symptoms in the questionnaire is not likely to cause a signi cant difference in the estimated prevalence of long covidour estimated prevalence is also similar to the estimate of based on neverhospitalized covid symptomatic californians and the estimate of based on a sample combining hospitalized patients and outpatients in seattle washington while it is notably lower than the estimated prevalence of at least using hospitalized patient sample in michigan these differences may re ect the fact that we adjust for preinfection symptoms and we do not represent the hospitalized populationthe signi cant association between long covid and obesity is consistent with previous studies both whitaker et als and the ons studies found that existing health conditions are associated with elevated long covid risk our results do not show any link between the presence of health conditions and long covidwe differ from some existing studies in that we did not nd a signi cant association between long covid and any sociodemographic factors included in this study it is probably because the analytic approaches used by the ons whitaker et al and sudre et al to assess risk factors for long covid either are based on bivariate comparisons or do not include the effects of existing health conditions as we do hence the age differences and gender differences they found may be explained by health differences across gender and age groups or other uncontrolled factors also sudre et al collected data from an international sample including respondents from the uk the us and sweden while whitaker et al focus on england and the ons focused on the uk population the discrepancy in results may also re ect differences in socioeconomic and demographic context across countries we found some symptoms reported at the time of infection to be associated with experiencing long covid but the symptoms we found hair loss headache and sore throat'"
            ]
          },
          "execution_count": 35,
          "metadata": {},
          "output_type": "execute_result"
        }
      ],
      "source": [
        "biorx_df.iloc[3078]['abstract']"
      ]
    },
    {
      "cell_type": "markdown",
      "metadata": {
        "id": "hUQy1gJx1n2r"
      },
      "source": [
        "## Embedding with BioBERT "
      ]
    },
    {
      "cell_type": "code",
      "execution_count": null,
      "metadata": {
        "colab": {
          "base_uri": "https://localhost:8080/"
        },
        "id": "cpa2hFkWA5uN",
        "outputId": "7be2a441-2801-471d-eb1b-6700c1011cba"
      },
      "outputs": [
        {
          "name": "stderr",
          "output_type": "stream",
          "text": [
            "WARNING:sentence_transformers.SentenceTransformer:No sentence-transformers model found with name /root/.cache/torch/sentence_transformers/monologg_biobert_v1.1_pubmed. Creating a new one with MEAN pooling.\n",
            "Some weights of the model checkpoint at /root/.cache/torch/sentence_transformers/monologg_biobert_v1.1_pubmed were not used when initializing BertModel: ['cls.predictions.bias', 'cls.predictions.transform.dense.weight', 'cls.predictions.transform.dense.bias', 'cls.seq_relationship.bias', 'cls.predictions.transform.LayerNorm.bias', 'cls.predictions.transform.LayerNorm.weight', 'cls.seq_relationship.weight', 'cls.predictions.decoder.weight']\n",
            "- This IS expected if you are initializing BertModel from the checkpoint of a model trained on another task or with another architecture (e.g. initializing a BertForSequenceClassification model from a BertForPreTraining model).\n",
            "- This IS NOT expected if you are initializing BertModel from the checkpoint of a model that you expect to be exactly identical (initializing a BertForSequenceClassification model from a BertForSequenceClassification model).\n"
          ]
        }
      ],
      "source": [
        "model = SentenceTransformer('monologg/biobert_v1.1_pubmed')"
      ]
    },
    {
      "cell_type": "code",
      "execution_count": null,
      "metadata": {
        "id": "LWMm657xyQm4"
      },
      "outputs": [],
      "source": [
        "if torch.cuda.is_available():\n",
        "    model = model.to(torch.device(\"cuda\"))"
      ]
    },
    {
      "cell_type": "code",
      "execution_count": null,
      "metadata": {
        "colab": {
          "base_uri": "https://localhost:8080/"
        },
        "id": "540pyaZK4G21",
        "outputId": "2b93d01f-8ce7-4db0-9877-ab83ccfff10e"
      },
      "outputs": [
        {
          "data": {
            "text/plain": [
              "0      By taking full consideration of contact hete...\n",
              "1      Citation Jung M. Lee M. The Effect of a Mind...\n",
              "2      Foundation 5357 and the Fondation du CHU de ...\n",
              "3      Locked nucleic acid LNA is a nucleic acid an...\n",
              "4                                                     \n",
              "Name: abstract, dtype: object"
            ]
          },
          "execution_count": 10,
          "metadata": {},
          "output_type": "execute_result"
        }
      ],
      "source": [
        "def clean_sent(text):\n",
        "    text = re.sub(r\"<[^>]*>\", \"\", text)  # remove HTML tags\n",
        "    text = re.sub(r'[^a-zA-Z0-9_\\s.?!]', '', text)\n",
        "    text = re.sub('\\n', ' ', text)\n",
        "    return text \n",
        "    \n",
        "biorx_df=bio_df.copy()\n",
        "biorx_df=biorx_df.dropna()\n",
        "\n",
        "col='abstract'\n",
        "bio_df[col]=bio_df[col].apply(lambda x: clean_sent(str(x)))\n",
        "bio_df[col]=bio_df[col].apply(lambda x: str(x)[8:])\n",
        "bio_df[col].head()"
      ]
    },
    {
      "cell_type": "code",
      "execution_count": null,
      "metadata": {
        "colab": {
          "base_uri": "https://localhost:8080/",
          "height": 49,
          "referenced_widgets": [
            "8fb08c4ad3e9406d9beb539badc61658",
            "135183d28e3d4d61a19349337e6c8719",
            "d4c74ad730274bb2924ecf4f42513c6a",
            "45a040a3d06340a1850e3c0eac308113",
            "70296f2b8abd43a2b2150feafdcbaeae",
            "ce0eb2b17c204c898bdbf794e90f8038",
            "f96cdf24a58847218507ba981ad8cfe9",
            "5c470eed84f6416e88b689a7a003784a",
            "85537c4ad72a462d97bae9b4199ee965",
            "aa63c14d72ad4d1f8557d839a9d09a97",
            "24ba2f25c5b243a69b0aeb9b10d36955"
          ]
        },
        "id": "kHmSJW4my11I",
        "outputId": "1069ec11-a10b-4885-9769-02684d6c17ec"
      },
      "outputs": [
        {
          "data": {
            "application/vnd.jupyter.widget-view+json": {
              "model_id": "8fb08c4ad3e9406d9beb539badc61658",
              "version_major": 2,
              "version_minor": 0
            },
            "text/plain": [
              "Batches:   0%|          | 0/79 [00:00<?, ?it/s]"
            ]
          },
          "metadata": {},
          "output_type": "display_data"
        }
      ],
      "source": [
        "abstract = bio_df['abstract'][:2500]\n",
        "document_embeddings = model.encode(abstract, show_progress_bar=True) "
      ]
    },
    {
      "cell_type": "code",
      "execution_count": null,
      "metadata": {
        "id": "CI7he1Nmy9-K"
      },
      "outputs": [],
      "source": [
        "with open('document_biobert.pickle', 'wb') as file :\n",
        "    pickle.dump(document_embeddings, file)"
      ]
    },
    {
      "cell_type": "code",
      "execution_count": null,
      "metadata": {
        "id": "8Y8YAd-G1Ar-"
      },
      "outputs": [],
      "source": [
        "with open('document_biobert.pickle', 'rb') as file:\n",
        "    document_embeddings = pickle.load(file)"
      ]
    },
    {
      "cell_type": "markdown",
      "metadata": {
        "id": "7WgI-ldN0TfO"
      },
      "source": [
        "## Implement Search Engine using Transformer\n",
        "Return top-ranked documents that are most related to the supplied query."
      ]
    },
    {
      "cell_type": "code",
      "execution_count": null,
      "metadata": {
        "id": "lj6Sq88U1SAy"
      },
      "outputs": [],
      "source": [
        "num_vectors = document_embeddings.shape[0]\n",
        "dimension = document_embeddings.shape[1]\n",
        "num_neighbours = 100\n",
        "document_weight = 1 \n",
        "\n",
        "document_index = faiss.IndexFlatIP(dimension)\n",
        "document_index.add(normalize(document_embeddings, norm='l2'))"
      ]
    },
    {
      "cell_type": "code",
      "execution_count": null,
      "metadata": {
        "id": "MFS8ElxIXSgC"
      },
      "outputs": [],
      "source": [
        "query = ['what is long covid?']\n",
        "query_embedding = model.encode(query)\n",
        "query_embedding_normalized = normalize(query_embedding, norm='l2')"
      ]
    },
    {
      "cell_type": "code",
      "execution_count": null,
      "metadata": {
        "colab": {
          "base_uri": "https://localhost:8080/"
        },
        "id": "OcvNOqTjXSdK",
        "outputId": "34384812-e13c-41d9-da9e-c71c6740dde6"
      },
      "outputs": [
        {
          "name": "stdout",
          "output_type": "stream",
          "text": [
            "1018 0.80913514\n",
            "1544 0.8116505\n",
            "1545 0.8147518\n",
            "1037 0.80130905\n",
            "2318 0.8084621\n",
            "1809 0.8157422\n",
            "785 0.8004762\n",
            "1303 0.80328774\n",
            "1053 0.8055978\n",
            "30 0.80641973\n",
            "543 0.826722\n",
            "804 0.7999857\n",
            "549 0.8099907\n",
            "1829 0.8032053\n",
            "1065 0.82132125\n",
            "43 0.81807554\n",
            "1838 0.7998309\n",
            "815 0.8081739\n",
            "50 0.80560756\n",
            "1846 0.8104883\n",
            "1593 0.80738777\n",
            "2364 0.8217234\n",
            "1852 0.80660206\n",
            "1602 0.80068046\n",
            "1350 0.7990281\n",
            "2119 0.80271894\n",
            "839 0.8018321\n",
            "840 0.811577\n",
            "1864 0.804547\n",
            "588 0.8083928\n",
            "337 0.79909015\n",
            "1111 0.8012934\n",
            "2394 0.8007143\n",
            "2144 0.8160878\n",
            "2149 0.8113272\n",
            "1126 0.81172717\n",
            "2156 0.8143844\n",
            "112 0.80091757\n",
            "1139 0.8096751\n",
            "1142 0.81311107\n",
            "1399 0.8208518\n",
            "378 0.79888505\n",
            "1663 0.80695635\n",
            "1409 0.82232493\n",
            "1154 0.80265635\n",
            "1157 0.83915657\n",
            "647 0.80398977\n",
            "1418 0.79885954\n",
            "1675 0.8162248\n",
            "1682 0.79976535\n",
            "402 0.80731475\n",
            "916 0.80460835\n",
            "920 0.80118084\n",
            "1695 0.8028025\n",
            "671 0.8014089\n",
            "1696 0.7993308\n",
            "1951 0.8501102\n",
            "1189 0.81982875\n",
            "933 0.8067859\n",
            "1958 0.80126554\n",
            "1960 0.8178854\n",
            "2473 0.81618315\n",
            "429 0.82405514\n",
            "2481 0.83144134\n",
            "2482 0.80328816\n",
            "2227 0.80514574\n",
            "1972 0.80393237\n",
            "1461 0.82060015\n",
            "182 0.8026028\n",
            "694 0.8002683\n",
            "184 0.8021226\n",
            "1207 0.7988053\n",
            "1976 0.810241\n",
            "1212 0.80330503\n",
            "1981 0.8015885\n",
            "1726 0.83654064\n",
            "191 0.82120925\n",
            "190 0.807491\n",
            "1727 0.80395526\n",
            "2494 0.80062926\n",
            "196 0.80665874\n",
            "1221 0.824288\n",
            "964 0.8110055\n",
            "1227 0.8066385\n",
            "1996 0.82285935\n",
            "975 0.8014589\n",
            "1490 0.80017453\n",
            "1492 0.80646974\n",
            "1756 0.800749\n",
            "2012 0.80914533\n",
            "225 0.81597644\n",
            "2275 0.8007392\n",
            "249 0.80681294\n",
            "745 0.81087655\n",
            "1013 0.8318567\n",
            "1273 0.801751\n",
            "250 0.80350226\n",
            "2299 0.8086196\n",
            "2044 0.8179556\n",
            "1021 0.80281186\n"
          ]
        }
      ],
      "source": [
        "document_distances, document_indices = document_index.search(query_embedding_normalized, num_neighbours)\n",
        "papers = list(( set(document_indices[0])) | set(document_indices[0, -5:]))\n",
        "\n",
        "papers_dict = {}\n",
        "for paper in papers :\n",
        "    document_distance = 0    \n",
        "    if paper in document_indices[0]:\n",
        "        index = np.where(document_indices[0] == paper)\n",
        "        document_distance = document_distances[0][index][0]\n",
        "    else : document_distance = cosine_similarity(document_embeddings[paper].reshape(1, -1), query_embedding)[0][0]\n",
        "\n",
        "    print(paper, document_distance)\n",
        "        \n",
        "    papers_dict[paper] =  document_weight * document_distance\n"
      ]
    }
  ],
  "metadata": {
    "accelerator": "GPU",
    "colab": {
      "toc_visible": true,
      "provenance": [],
      "collapsed_sections": [
        "SQfXCyPKQwyb",
        "X42_jMu2RR7J",
        "Ra6mIsRgbim3"
      ],
      "mount_file_id": "1ez8EbRTgD27276ZiAPmDrvTZYvjPAxAa",
      "authorship_tag": "ABX9TyPBjcle3mM+DOcbPAcMgh5r",
      "include_colab_link": true
    },
    "gpuClass": "standard",
    "kernelspec": {
      "display_name": "Python 3",
      "name": "python3"
    },
    "language_info": {
      "name": "python"
    },
    "widgets": {
      "application/vnd.jupyter.widget-state+json": {
        "09f2afc62e724d2e8716613f9d45d357": {
          "model_module": "@jupyter-widgets/controls",
          "model_module_version": "1.5.0",
          "model_name": "ProgressStyleModel",
          "state": {
            "_model_module": "@jupyter-widgets/controls",
            "_model_module_version": "1.5.0",
            "_model_name": "ProgressStyleModel",
            "_view_count": null,
            "_view_module": "@jupyter-widgets/base",
            "_view_module_version": "1.2.0",
            "_view_name": "StyleView",
            "bar_color": null,
            "description_width": ""
          }
        },
        "135183d28e3d4d61a19349337e6c8719": {
          "model_module": "@jupyter-widgets/controls",
          "model_module_version": "1.5.0",
          "model_name": "HTMLModel",
          "state": {
            "_dom_classes": [],
            "_model_module": "@jupyter-widgets/controls",
            "_model_module_version": "1.5.0",
            "_model_name": "HTMLModel",
            "_view_count": null,
            "_view_module": "@jupyter-widgets/controls",
            "_view_module_version": "1.5.0",
            "_view_name": "HTMLView",
            "description": "",
            "description_tooltip": null,
            "layout": "IPY_MODEL_ce0eb2b17c204c898bdbf794e90f8038",
            "placeholder": "​",
            "style": "IPY_MODEL_f96cdf24a58847218507ba981ad8cfe9",
            "value": "Batches: 100%"
          }
        },
        "141361c67c4d4c1ab544cbac313e87ed": {
          "model_module": "@jupyter-widgets/controls",
          "model_module_version": "1.5.0",
          "model_name": "HTMLModel",
          "state": {
            "_dom_classes": [],
            "_model_module": "@jupyter-widgets/controls",
            "_model_module_version": "1.5.0",
            "_model_name": "HTMLModel",
            "_view_count": null,
            "_view_module": "@jupyter-widgets/controls",
            "_view_module_version": "1.5.0",
            "_view_name": "HTMLView",
            "description": "",
            "description_tooltip": null,
            "layout": "IPY_MODEL_ebc1886ece104008883e3bbe08d8e9df",
            "placeholder": "​",
            "style": "IPY_MODEL_7d2b602f9b404078acdecb39b72cdc6f",
            "value": "100%"
          }
        },
        "24ba2f25c5b243a69b0aeb9b10d36955": {
          "model_module": "@jupyter-widgets/controls",
          "model_module_version": "1.5.0",
          "model_name": "DescriptionStyleModel",
          "state": {
            "_model_module": "@jupyter-widgets/controls",
            "_model_module_version": "1.5.0",
            "_model_name": "DescriptionStyleModel",
            "_view_count": null,
            "_view_module": "@jupyter-widgets/base",
            "_view_module_version": "1.2.0",
            "_view_name": "StyleView",
            "description_width": ""
          }
        },
        "45a040a3d06340a1850e3c0eac308113": {
          "model_module": "@jupyter-widgets/controls",
          "model_module_version": "1.5.0",
          "model_name": "HTMLModel",
          "state": {
            "_dom_classes": [],
            "_model_module": "@jupyter-widgets/controls",
            "_model_module_version": "1.5.0",
            "_model_name": "HTMLModel",
            "_view_count": null,
            "_view_module": "@jupyter-widgets/controls",
            "_view_module_version": "1.5.0",
            "_view_name": "HTMLView",
            "description": "",
            "description_tooltip": null,
            "layout": "IPY_MODEL_aa63c14d72ad4d1f8557d839a9d09a97",
            "placeholder": "​",
            "style": "IPY_MODEL_24ba2f25c5b243a69b0aeb9b10d36955",
            "value": " 79/79 [00:50&lt;00:00, 35.44it/s]"
          }
        },
        "5c470eed84f6416e88b689a7a003784a": {
          "model_module": "@jupyter-widgets/base",
          "model_module_version": "1.2.0",
          "model_name": "LayoutModel",
          "state": {
            "_model_module": "@jupyter-widgets/base",
            "_model_module_version": "1.2.0",
            "_model_name": "LayoutModel",
            "_view_count": null,
            "_view_module": "@jupyter-widgets/base",
            "_view_module_version": "1.2.0",
            "_view_name": "LayoutView",
            "align_content": null,
            "align_items": null,
            "align_self": null,
            "border": null,
            "bottom": null,
            "display": null,
            "flex": null,
            "flex_flow": null,
            "grid_area": null,
            "grid_auto_columns": null,
            "grid_auto_flow": null,
            "grid_auto_rows": null,
            "grid_column": null,
            "grid_gap": null,
            "grid_row": null,
            "grid_template_areas": null,
            "grid_template_columns": null,
            "grid_template_rows": null,
            "height": null,
            "justify_content": null,
            "justify_items": null,
            "left": null,
            "margin": null,
            "max_height": null,
            "max_width": null,
            "min_height": null,
            "min_width": null,
            "object_fit": null,
            "object_position": null,
            "order": null,
            "overflow": null,
            "overflow_x": null,
            "overflow_y": null,
            "padding": null,
            "right": null,
            "top": null,
            "visibility": null,
            "width": null
          }
        },
        "5e2a02f2346347b6928d9baa41743cf8": {
          "model_module": "@jupyter-widgets/base",
          "model_module_version": "1.2.0",
          "model_name": "LayoutModel",
          "state": {
            "_model_module": "@jupyter-widgets/base",
            "_model_module_version": "1.2.0",
            "_model_name": "LayoutModel",
            "_view_count": null,
            "_view_module": "@jupyter-widgets/base",
            "_view_module_version": "1.2.0",
            "_view_name": "LayoutView",
            "align_content": null,
            "align_items": null,
            "align_self": null,
            "border": null,
            "bottom": null,
            "display": null,
            "flex": null,
            "flex_flow": null,
            "grid_area": null,
            "grid_auto_columns": null,
            "grid_auto_flow": null,
            "grid_auto_rows": null,
            "grid_column": null,
            "grid_gap": null,
            "grid_row": null,
            "grid_template_areas": null,
            "grid_template_columns": null,
            "grid_template_rows": null,
            "height": null,
            "justify_content": null,
            "justify_items": null,
            "left": null,
            "margin": null,
            "max_height": null,
            "max_width": null,
            "min_height": null,
            "min_width": null,
            "object_fit": null,
            "object_position": null,
            "order": null,
            "overflow": null,
            "overflow_x": null,
            "overflow_y": null,
            "padding": null,
            "right": null,
            "top": null,
            "visibility": null,
            "width": null
          }
        },
        "6c33358e33d24cbcad4055c3a10462ec": {
          "model_module": "@jupyter-widgets/controls",
          "model_module_version": "1.5.0",
          "model_name": "DescriptionStyleModel",
          "state": {
            "_model_module": "@jupyter-widgets/controls",
            "_model_module_version": "1.5.0",
            "_model_name": "DescriptionStyleModel",
            "_view_count": null,
            "_view_module": "@jupyter-widgets/base",
            "_view_module_version": "1.2.0",
            "_view_name": "StyleView",
            "description_width": ""
          }
        },
        "70296f2b8abd43a2b2150feafdcbaeae": {
          "model_module": "@jupyter-widgets/base",
          "model_module_version": "1.2.0",
          "model_name": "LayoutModel",
          "state": {
            "_model_module": "@jupyter-widgets/base",
            "_model_module_version": "1.2.0",
            "_model_name": "LayoutModel",
            "_view_count": null,
            "_view_module": "@jupyter-widgets/base",
            "_view_module_version": "1.2.0",
            "_view_name": "LayoutView",
            "align_content": null,
            "align_items": null,
            "align_self": null,
            "border": null,
            "bottom": null,
            "display": null,
            "flex": null,
            "flex_flow": null,
            "grid_area": null,
            "grid_auto_columns": null,
            "grid_auto_flow": null,
            "grid_auto_rows": null,
            "grid_column": null,
            "grid_gap": null,
            "grid_row": null,
            "grid_template_areas": null,
            "grid_template_columns": null,
            "grid_template_rows": null,
            "height": null,
            "justify_content": null,
            "justify_items": null,
            "left": null,
            "margin": null,
            "max_height": null,
            "max_width": null,
            "min_height": null,
            "min_width": null,
            "object_fit": null,
            "object_position": null,
            "order": null,
            "overflow": null,
            "overflow_x": null,
            "overflow_y": null,
            "padding": null,
            "right": null,
            "top": null,
            "visibility": null,
            "width": null
          }
        },
        "7ae0dee8712b41beb549fb057e45dfe1": {
          "model_module": "@jupyter-widgets/base",
          "model_module_version": "1.2.0",
          "model_name": "LayoutModel",
          "state": {
            "_model_module": "@jupyter-widgets/base",
            "_model_module_version": "1.2.0",
            "_model_name": "LayoutModel",
            "_view_count": null,
            "_view_module": "@jupyter-widgets/base",
            "_view_module_version": "1.2.0",
            "_view_name": "LayoutView",
            "align_content": null,
            "align_items": null,
            "align_self": null,
            "border": null,
            "bottom": null,
            "display": null,
            "flex": null,
            "flex_flow": null,
            "grid_area": null,
            "grid_auto_columns": null,
            "grid_auto_flow": null,
            "grid_auto_rows": null,
            "grid_column": null,
            "grid_gap": null,
            "grid_row": null,
            "grid_template_areas": null,
            "grid_template_columns": null,
            "grid_template_rows": null,
            "height": null,
            "justify_content": null,
            "justify_items": null,
            "left": null,
            "margin": null,
            "max_height": null,
            "max_width": null,
            "min_height": null,
            "min_width": null,
            "object_fit": null,
            "object_position": null,
            "order": null,
            "overflow": null,
            "overflow_x": null,
            "overflow_y": null,
            "padding": null,
            "right": null,
            "top": null,
            "visibility": null,
            "width": null
          }
        },
        "7d2b602f9b404078acdecb39b72cdc6f": {
          "model_module": "@jupyter-widgets/controls",
          "model_module_version": "1.5.0",
          "model_name": "DescriptionStyleModel",
          "state": {
            "_model_module": "@jupyter-widgets/controls",
            "_model_module_version": "1.5.0",
            "_model_name": "DescriptionStyleModel",
            "_view_count": null,
            "_view_module": "@jupyter-widgets/base",
            "_view_module_version": "1.2.0",
            "_view_name": "StyleView",
            "description_width": ""
          }
        },
        "85537c4ad72a462d97bae9b4199ee965": {
          "model_module": "@jupyter-widgets/controls",
          "model_module_version": "1.5.0",
          "model_name": "ProgressStyleModel",
          "state": {
            "_model_module": "@jupyter-widgets/controls",
            "_model_module_version": "1.5.0",
            "_model_name": "ProgressStyleModel",
            "_view_count": null,
            "_view_module": "@jupyter-widgets/base",
            "_view_module_version": "1.2.0",
            "_view_name": "StyleView",
            "bar_color": null,
            "description_width": ""
          }
        },
        "8fa1b54913594aefa69ceb97cbccc4e8": {
          "model_module": "@jupyter-widgets/controls",
          "model_module_version": "1.5.0",
          "model_name": "FloatProgressModel",
          "state": {
            "_dom_classes": [],
            "_model_module": "@jupyter-widgets/controls",
            "_model_module_version": "1.5.0",
            "_model_name": "FloatProgressModel",
            "_view_count": null,
            "_view_module": "@jupyter-widgets/controls",
            "_view_module_version": "1.5.0",
            "_view_name": "ProgressView",
            "bar_style": "success",
            "description": "",
            "description_tooltip": null,
            "layout": "IPY_MODEL_7ae0dee8712b41beb549fb057e45dfe1",
            "max": 25000,
            "min": 0,
            "orientation": "horizontal",
            "style": "IPY_MODEL_09f2afc62e724d2e8716613f9d45d357",
            "value": 25000
          }
        },
        "8fb08c4ad3e9406d9beb539badc61658": {
          "model_module": "@jupyter-widgets/controls",
          "model_module_version": "1.5.0",
          "model_name": "HBoxModel",
          "state": {
            "_dom_classes": [],
            "_model_module": "@jupyter-widgets/controls",
            "_model_module_version": "1.5.0",
            "_model_name": "HBoxModel",
            "_view_count": null,
            "_view_module": "@jupyter-widgets/controls",
            "_view_module_version": "1.5.0",
            "_view_name": "HBoxView",
            "box_style": "",
            "children": [
              "IPY_MODEL_135183d28e3d4d61a19349337e6c8719",
              "IPY_MODEL_d4c74ad730274bb2924ecf4f42513c6a",
              "IPY_MODEL_45a040a3d06340a1850e3c0eac308113"
            ],
            "layout": "IPY_MODEL_70296f2b8abd43a2b2150feafdcbaeae"
          }
        },
        "a4dd134a2ca8498696bb62fcb79f4cdc": {
          "model_module": "@jupyter-widgets/controls",
          "model_module_version": "1.5.0",
          "model_name": "HBoxModel",
          "state": {
            "_dom_classes": [],
            "_model_module": "@jupyter-widgets/controls",
            "_model_module_version": "1.5.0",
            "_model_name": "HBoxModel",
            "_view_count": null,
            "_view_module": "@jupyter-widgets/controls",
            "_view_module_version": "1.5.0",
            "_view_name": "HBoxView",
            "box_style": "",
            "children": [
              "IPY_MODEL_141361c67c4d4c1ab544cbac313e87ed",
              "IPY_MODEL_8fa1b54913594aefa69ceb97cbccc4e8",
              "IPY_MODEL_af2eeb93eec44cef966f53ecefe9be53"
            ],
            "layout": "IPY_MODEL_5e2a02f2346347b6928d9baa41743cf8"
          }
        },
        "aa63c14d72ad4d1f8557d839a9d09a97": {
          "model_module": "@jupyter-widgets/base",
          "model_module_version": "1.2.0",
          "model_name": "LayoutModel",
          "state": {
            "_model_module": "@jupyter-widgets/base",
            "_model_module_version": "1.2.0",
            "_model_name": "LayoutModel",
            "_view_count": null,
            "_view_module": "@jupyter-widgets/base",
            "_view_module_version": "1.2.0",
            "_view_name": "LayoutView",
            "align_content": null,
            "align_items": null,
            "align_self": null,
            "border": null,
            "bottom": null,
            "display": null,
            "flex": null,
            "flex_flow": null,
            "grid_area": null,
            "grid_auto_columns": null,
            "grid_auto_flow": null,
            "grid_auto_rows": null,
            "grid_column": null,
            "grid_gap": null,
            "grid_row": null,
            "grid_template_areas": null,
            "grid_template_columns": null,
            "grid_template_rows": null,
            "height": null,
            "justify_content": null,
            "justify_items": null,
            "left": null,
            "margin": null,
            "max_height": null,
            "max_width": null,
            "min_height": null,
            "min_width": null,
            "object_fit": null,
            "object_position": null,
            "order": null,
            "overflow": null,
            "overflow_x": null,
            "overflow_y": null,
            "padding": null,
            "right": null,
            "top": null,
            "visibility": null,
            "width": null
          }
        },
        "af2eeb93eec44cef966f53ecefe9be53": {
          "model_module": "@jupyter-widgets/controls",
          "model_module_version": "1.5.0",
          "model_name": "HTMLModel",
          "state": {
            "_dom_classes": [],
            "_model_module": "@jupyter-widgets/controls",
            "_model_module_version": "1.5.0",
            "_model_name": "HTMLModel",
            "_view_count": null,
            "_view_module": "@jupyter-widgets/controls",
            "_view_module_version": "1.5.0",
            "_view_name": "HTMLView",
            "description": "",
            "description_tooltip": null,
            "layout": "IPY_MODEL_e7ab4d2e63734260a8ff2f5a619efa6b",
            "placeholder": "​",
            "style": "IPY_MODEL_6c33358e33d24cbcad4055c3a10462ec",
            "value": " 25000/25000 [01:16&lt;00:00, 392.01it/s]"
          }
        },
        "ce0eb2b17c204c898bdbf794e90f8038": {
          "model_module": "@jupyter-widgets/base",
          "model_module_version": "1.2.0",
          "model_name": "LayoutModel",
          "state": {
            "_model_module": "@jupyter-widgets/base",
            "_model_module_version": "1.2.0",
            "_model_name": "LayoutModel",
            "_view_count": null,
            "_view_module": "@jupyter-widgets/base",
            "_view_module_version": "1.2.0",
            "_view_name": "LayoutView",
            "align_content": null,
            "align_items": null,
            "align_self": null,
            "border": null,
            "bottom": null,
            "display": null,
            "flex": null,
            "flex_flow": null,
            "grid_area": null,
            "grid_auto_columns": null,
            "grid_auto_flow": null,
            "grid_auto_rows": null,
            "grid_column": null,
            "grid_gap": null,
            "grid_row": null,
            "grid_template_areas": null,
            "grid_template_columns": null,
            "grid_template_rows": null,
            "height": null,
            "justify_content": null,
            "justify_items": null,
            "left": null,
            "margin": null,
            "max_height": null,
            "max_width": null,
            "min_height": null,
            "min_width": null,
            "object_fit": null,
            "object_position": null,
            "order": null,
            "overflow": null,
            "overflow_x": null,
            "overflow_y": null,
            "padding": null,
            "right": null,
            "top": null,
            "visibility": null,
            "width": null
          }
        },
        "d4c74ad730274bb2924ecf4f42513c6a": {
          "model_module": "@jupyter-widgets/controls",
          "model_module_version": "1.5.0",
          "model_name": "FloatProgressModel",
          "state": {
            "_dom_classes": [],
            "_model_module": "@jupyter-widgets/controls",
            "_model_module_version": "1.5.0",
            "_model_name": "FloatProgressModel",
            "_view_count": null,
            "_view_module": "@jupyter-widgets/controls",
            "_view_module_version": "1.5.0",
            "_view_name": "ProgressView",
            "bar_style": "success",
            "description": "",
            "description_tooltip": null,
            "layout": "IPY_MODEL_5c470eed84f6416e88b689a7a003784a",
            "max": 79,
            "min": 0,
            "orientation": "horizontal",
            "style": "IPY_MODEL_85537c4ad72a462d97bae9b4199ee965",
            "value": 79
          }
        },
        "e7ab4d2e63734260a8ff2f5a619efa6b": {
          "model_module": "@jupyter-widgets/base",
          "model_module_version": "1.2.0",
          "model_name": "LayoutModel",
          "state": {
            "_model_module": "@jupyter-widgets/base",
            "_model_module_version": "1.2.0",
            "_model_name": "LayoutModel",
            "_view_count": null,
            "_view_module": "@jupyter-widgets/base",
            "_view_module_version": "1.2.0",
            "_view_name": "LayoutView",
            "align_content": null,
            "align_items": null,
            "align_self": null,
            "border": null,
            "bottom": null,
            "display": null,
            "flex": null,
            "flex_flow": null,
            "grid_area": null,
            "grid_auto_columns": null,
            "grid_auto_flow": null,
            "grid_auto_rows": null,
            "grid_column": null,
            "grid_gap": null,
            "grid_row": null,
            "grid_template_areas": null,
            "grid_template_columns": null,
            "grid_template_rows": null,
            "height": null,
            "justify_content": null,
            "justify_items": null,
            "left": null,
            "margin": null,
            "max_height": null,
            "max_width": null,
            "min_height": null,
            "min_width": null,
            "object_fit": null,
            "object_position": null,
            "order": null,
            "overflow": null,
            "overflow_x": null,
            "overflow_y": null,
            "padding": null,
            "right": null,
            "top": null,
            "visibility": null,
            "width": null
          }
        },
        "ebc1886ece104008883e3bbe08d8e9df": {
          "model_module": "@jupyter-widgets/base",
          "model_module_version": "1.2.0",
          "model_name": "LayoutModel",
          "state": {
            "_model_module": "@jupyter-widgets/base",
            "_model_module_version": "1.2.0",
            "_model_name": "LayoutModel",
            "_view_count": null,
            "_view_module": "@jupyter-widgets/base",
            "_view_module_version": "1.2.0",
            "_view_name": "LayoutView",
            "align_content": null,
            "align_items": null,
            "align_self": null,
            "border": null,
            "bottom": null,
            "display": null,
            "flex": null,
            "flex_flow": null,
            "grid_area": null,
            "grid_auto_columns": null,
            "grid_auto_flow": null,
            "grid_auto_rows": null,
            "grid_column": null,
            "grid_gap": null,
            "grid_row": null,
            "grid_template_areas": null,
            "grid_template_columns": null,
            "grid_template_rows": null,
            "height": null,
            "justify_content": null,
            "justify_items": null,
            "left": null,
            "margin": null,
            "max_height": null,
            "max_width": null,
            "min_height": null,
            "min_width": null,
            "object_fit": null,
            "object_position": null,
            "order": null,
            "overflow": null,
            "overflow_x": null,
            "overflow_y": null,
            "padding": null,
            "right": null,
            "top": null,
            "visibility": null,
            "width": null
          }
        },
        "f96cdf24a58847218507ba981ad8cfe9": {
          "model_module": "@jupyter-widgets/controls",
          "model_module_version": "1.5.0",
          "model_name": "DescriptionStyleModel",
          "state": {
            "_model_module": "@jupyter-widgets/controls",
            "_model_module_version": "1.5.0",
            "_model_name": "DescriptionStyleModel",
            "_view_count": null,
            "_view_module": "@jupyter-widgets/base",
            "_view_module_version": "1.2.0",
            "_view_name": "StyleView",
            "description_width": ""
          }
        }
      }
    }
  },
  "nbformat": 4,
  "nbformat_minor": 0
}